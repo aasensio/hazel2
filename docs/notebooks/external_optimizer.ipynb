{
 "cells": [
  {
   "cell_type": "markdown",
   "metadata": {},
   "source": [
    "# Using an external optimizer\n",
    "Hazel comes with a preconfigured efficient Levenberg-Marquard algorithm, but it can also use any external optimizer. It can seamlessly integrate all SciPy optimizers but it also provides the tools to use other optimizers."
   ]
  },
  {
   "cell_type": "code",
   "execution_count": 1,
   "metadata": {},
   "outputs": [
    {
     "name": "stderr",
     "output_type": "stream",
     "text": [
      "/scratch/Dropbox/GIT/hazel2/hazel/io.py:12: UserWarning: zarr module not found. You will not be able to use zarr as input/output.\n",
      "  warnings.warn(\"zarr module not found. You will not be able to use zarr as input/output.\")\n"
     ]
    },
    {
     "name": "stdout",
     "output_type": "stream",
     "text": [
      "2018.06.07\n"
     ]
    }
   ],
   "source": [
    "%matplotlib inline\n",
    "import numpy as np\n",
    "import matplotlib.pyplot as pl\n",
    "import hazel\n",
    "import h5py\n",
    "from scipy.optimize import minimize, differential_evolution\n",
    "print(hazel.__version__)\n",
    "label = ['I', 'Q', 'U', 'V']"
   ]
  },
  {
   "cell_type": "markdown",
   "metadata": {},
   "source": [
    "Let's start by generating a model by reading the following configuration file:"
   ]
  },
  {
   "cell_type": "code",
   "execution_count": 2,
   "metadata": {},
   "outputs": [
    {
     "name": "stdout",
     "output_type": "stream",
     "text": [
      "# Hazel configuration File\r\n",
      "\r\n",
      "[Working mode]\r\n",
      "Output file = output.h5\r\n",
      "Number of cycles = 1\r\n",
      "\r\n",
      "# Topology\r\n",
      "# Always photosphere and then chromosphere\r\n",
      "# Photospheres are only allowed to be added with a filling factor\r\n",
      "# Atmospheres share a filling factor if they are in parenthesis\r\n",
      "# Atmospheres are one after the other with the -> operator\r\n",
      "# Atmosphere 1 = ph2 -> ch1 -> ch2\r\n",
      "\r\n",
      "[Spectral regions]\r\n",
      "    [[Region 1]]\r\n",
      "    Name = spec1\r\n",
      "    Wavelength = 10826, 10833, 150\r\n",
      "    Topology = ph1 -> ch1 -> te1\r\n",
      "    Stokes weights = 1.0, 1.0, 1.0, 1.0\r\n",
      "    LOS = 0.0, 0.0, 90.0\r\n",
      "    Boundary condition = 1.0, 0.0, 0.0, 0.0       # I/Ic(mu=1), Q/Ic(mu=1), U/Ic(mu=1), V/Ic(mu=1)\r\n",
      "    Wavelength file = 'observations/10830.wavelength'\r\n",
      "    Wavelength weight file = 'observations/10830.weights'\r\n",
      "    Observations file = 'observations/10830_stokes.1d'    \r\n",
      "    Weights Stokes I = 1.0, 0.0, 0.0, 0.0\r\n",
      "    Weights Stokes Q = 0.0, 0.0, 0.0, 0.0\r\n",
      "    Weights Stokes U = 0.0, 0.0, 0.0, 0.0\r\n",
      "    Weights Stokes V = 0.0, 0.0, 0.0, 0.0\r\n",
      "    Mask file = None\r\n",
      "\r\n",
      "[Atmospheres]\r\n",
      "\r\n",
      "    [[Photosphere 1]]\r\n",
      "    Name = ph1\r\n",
      "    Reference atmospheric model = 'photospheres/model_photosphere_200.1d'\r\n",
      "    Spectral region = spec1\r\n",
      "    Wavelength = 10826, 10833\r\n",
      "    Spectral lines = 300,\r\n",
      "\r\n",
      "        [[[Ranges]]]\r\n",
      "        T      = 2500.0, 9000.0\r\n",
      "        vmic   = 0.0, 3.0\r\n",
      "        v      = -10.0, 10.0\r\n",
      "        Bx     = -1000.0, 1000.0\r\n",
      "        By     = -1000.0, 1000.0\r\n",
      "        Bz     = -1000.0, 1000.0\r\n",
      "        ff     = 0.0, 1.001\r\n",
      "\r\n",
      "        [[[Nodes]]]\r\n",
      "        T      = 1, 1, 5, 5\r\n",
      "        vmic   = 1, 0, 1, 1\r\n",
      "        v      = 0, 0, 1, 1\r\n",
      "        Bx     = 0, 0, 1, 1\r\n",
      "        By     = 0, 0, 1, 1\r\n",
      "        Bz     = 0, 0, 1, 1\r\n",
      "        ff     = 0, 0, 0, 0\r\n",
      "\r\n",
      "\r\n",
      "    [[Chromosphere 1]]\r\n",
      "    Name = ch1                                              # Name of the atmosphere component\r\n",
      "    Spectral region = spec1                                 # Spectral region to be used for synthesis\r\n",
      "    Height = 3.0                                            # Height of the slab\r\n",
      "    Line = 10830                                            # 10830, 5876\r\n",
      "    Wavelength = 10828, 10833                         # Wavelength range used for synthesis\r\n",
      "    Reference atmospheric model = 'chromospheres/model_chromosphere.1d'    # File with model parameters\r\n",
      "\r\n",
      "        [[[Ranges]]]\r\n",
      "        Bx     = -500, 500\r\n",
      "        By     = -500, 500\r\n",
      "        Bz     = -500, 500\r\n",
      "        tau    = 0.1, 2.0\r\n",
      "        v      = -10.0, 10.0\r\n",
      "        deltav = 3.0, 12.0\r\n",
      "        beta   = 0.9, 2.0\r\n",
      "        a      = 0.0, 1.0\r\n",
      "        ff     = 0.0, 1.001\r\n",
      "        \r\n",
      "\r\n",
      "        [[[Nodes]]]\r\n",
      "        Bx     = 0, 0, 1, 1\r\n",
      "        By     = 0, 0, 1, 1\r\n",
      "        Bz     = 0, 0, 1, 1\r\n",
      "        tau    = 0, 0, 0, 0\r\n",
      "        v      = 0, 0, 0, 0\r\n",
      "        deltav = 0, 0, 0, 0\r\n",
      "        beta   = 0, 0, 0, 0\r\n",
      "        a      = 0, 0, 0, 0\r\n",
      "        ff     = 0, 0, 0, 0\r\n",
      "    \r\n",
      "    [[Parametric 1]]\r\n",
      "    Name = te1\r\n",
      "    Spectral region = spec1\r\n",
      "    Wavelength = 10828, 10833\r\n",
      "    Reference atmospheric model = 'telluric/model_telluric.1d'    # File with model parameters\r\n",
      "    Type = Voigt           # Voigt, MoGaussian, MoVoigt \r\n",
      "\r\n",
      "        [[[Ranges]]]\r\n",
      "        Lambda0 = 10832.0, 10834.0\r\n",
      "        Sigma = 0.1, 0.5\r\n",
      "        Depth = 0.2, 0.8\r\n",
      "        a = 0.0, 1.2\r\n",
      "        ff = 0.0, 1.001\r\n",
      "    \r\n",
      "        [[[Nodes]]]\r\n",
      "        Lambda0 = 0, 0, 0, 0\r\n",
      "        Sigma = 0, 0, 0, 0\r\n",
      "        Depth = 0, 0, 0, 0\r\n",
      "        a = 0, 0, 0, 0\r\n",
      "        ff = 0, 0, 0, 0\r\n"
     ]
    }
   ],
   "source": [
    "%cat conf_single.ini"
   ]
  },
  {
   "cell_type": "markdown",
   "metadata": {},
   "source": [
    "This is a very simple inversion in which only two variables are inverted. This is surely not realistic but serves for the purpose of showing how more complicated things can be done. Let's then read the configuration file and read the observation file defined in the configuration file."
   ]
  },
  {
   "cell_type": "code",
   "execution_count": 3,
   "metadata": {},
   "outputs": [
    {
     "name": "stderr",
     "output_type": "stream",
     "text": [
      "2018-10-05 13:15:01,845 - Adding spectral region spec1\n",
      "2018-10-05 13:15:01,846 -   - Reading wavelength axis from observations/10830.wavelength\n",
      "2018-10-05 13:15:01,849 -   - Reading wavelength weights from observations/10830.weights\n",
      "2018-10-05 13:15:01,853 -   - Using observations from observations/10830_stokes.1d\n",
      "2018-10-05 13:15:01,854 -   - No mask for pixels\n",
      "2018-10-05 13:15:01,856 -   - No instrumental profile\n",
      "2018-10-05 13:15:01,859 -   - Using LOS ['0.0', '0.0', '90.0']\n",
      "2018-10-05 13:15:01,863 -   - Using boundary condition ['1.0', '0.0', '0.0', '0.0']\n",
      "2018-10-05 13:15:01,867 - Using 1 cycles\n",
      "2018-10-05 13:15:01,869 - Not using randomizations\n",
      "2018-10-05 13:15:01,872 - Adding atmospheres\n",
      "2018-10-05 13:15:01,873 -   - New available photosphere : ph1\n",
      "2018-10-05 13:15:01,875 -     * Adding line : [300]\n",
      "2018-10-05 13:15:01,877 -     * Magnetic field reference frame : vertical\n",
      "2018-10-05 13:15:01,878 -     * Reading 1D model photospheres/model_photosphere_200.1d as reference\n",
      "2018-10-05 13:15:01,883 -   - New available chromosphere : ch1\n",
      "2018-10-05 13:15:01,885 -     * Adding line : 10830\n",
      "2018-10-05 13:15:01,887 -     * Magnetic field reference frame : vertical\n",
      "2018-10-05 13:15:01,888 -     * Reading 1D model chromospheres/model_chromosphere.1d as reference\n",
      "2018-10-05 13:15:01,892 -   - New available parametric : te1\n",
      "2018-10-05 13:15:01,894 -     * Reading 1D model telluric/model_telluric.1d as reference\n",
      "2018-10-05 13:15:01,897 - Adding topologies\n",
      "2018-10-05 13:15:01,898 -   - ph1 -> ch1 -> te1\n",
      "2018-10-05 13:15:01,899 - Removing unused atmospheres\n",
      "2018-10-05 13:15:01,900 - Number of pixels to invert : 1\n",
      "2018-10-05 13:15:01,908 - Total number of free parameters in all cycles : 2\n"
     ]
    }
   ],
   "source": [
    "# Test a single inversion in non-iterator mode\n",
    "mod = hazel.Model('conf_single.ini', working_mode='inversion', verbose=2)\n",
    "mod.read_observation()"
   ]
  },
  {
   "cell_type": "markdown",
   "metadata": {},
   "source": [
    "Next, let us invert it with the Levenberg-Marquartd algorithm provided by Hazel:"
   ]
  },
  {
   "cell_type": "code",
   "execution_count": 4,
   "metadata": {},
   "outputs": [
    {
     "name": "stderr",
     "output_type": "stream",
     "text": [
      "2018-10-05 13:15:04,949 - -------------\n",
      "2018-10-05 13:15:04,950 -   Cycle 0  \n",
      "2018-10-05 13:15:04,952 -   Weights for region spec1 : SI=1.0 - SQ=0.0 - SU=0.0 - SV=0.0\n",
      "2018-10-05 13:15:04,953 - -------------\n",
      "2018-10-05 13:15:04,955 - Free parameters for ph1\n",
      "2018-10-05 13:15:04,957 -   - T with 1 node\n",
      "2018-10-05 13:15:04,959 -   - vmic with 1 node\n",
      "2018-10-05 13:15:05,270 - It: 0 - chi2: 111.73491265894616 - lambda: 0.01827468471342611 - rel: -1.9999999553060352\n",
      "2018-10-05 13:15:05,437 - It: 1 - chi2: 94.9879533212469 - lambda: 0.004287504963923828 - rel: -0.1620232890860157\n",
      "2018-10-05 13:15:05,540 - It: 2 - chi2: 94.9844932019989 - lambda: 0.09602514964800882 - rel: -3.642759054093184e-05\n"
     ]
    }
   ],
   "source": [
    "mod.open_output()\n",
    "mod.invert()\n",
    "mod.write_output()\n",
    "mod.close_output()"
   ]
  },
  {
   "cell_type": "code",
   "execution_count": 5,
   "metadata": {},
   "outputs": [
    {
     "data": {
      "image/png": "[encoded data removed]",
      "text/plain": [
       "<Figure size 432x288 with 1 Axes>"
      ]
     },
     "metadata": {},
     "output_type": "display_data"
    }
   ],
   "source": [
    "final = np.loadtxt('photospheres/model_photosphere.1d', skiprows=4)\n",
    "start = np.loadtxt('photospheres/model_photosphere_200.1d', skiprows=4)\n",
    "f = h5py.File('output.h5')\n",
    "pl.plot(f['ph1']['T'][0,0,:])\n",
    "pl.plot(final[:,1])\n",
    "pl.plot(start[:,1], 'x')\n",
    "f.close()"
   ]
  },
  {
   "cell_type": "markdown",
   "metadata": {},
   "source": [
    "### Using SciPy"
   ]
  },
  {
   "cell_type": "markdown",
   "metadata": {},
   "source": [
    "Then we open the output file, call `invert_external`, write the output and close it. `invert_external` allows the user to pass an SciPy optimizer and the arguments for the optimizer. The advantage of the SciPy optimizers is that they share the arguments. In this example, we'll use the Nelder-Mead algorithm, that does not use derivatives."
   ]
  },
  {
   "cell_type": "code",
   "execution_count": 6,
   "metadata": {},
   "outputs": [
    {
     "name": "stderr",
     "output_type": "stream",
     "text": [
      "2018-10-05 13:15:12,059 - Adding spectral region spec1\n",
      "2018-10-05 13:15:12,060 -   - Reading wavelength axis from observations/10830.wavelength\n",
      "2018-10-05 13:15:12,063 -   - Reading wavelength weights from observations/10830.weights\n",
      "2018-10-05 13:15:12,069 -   - Using observations from observations/10830_stokes.1d\n",
      "2018-10-05 13:15:12,072 -   - No mask for pixels\n",
      "2018-10-05 13:15:12,075 -   - No instrumental profile\n",
      "2018-10-05 13:15:12,076 -   - Using LOS ['0.0', '0.0', '90.0']\n",
      "2018-10-05 13:15:12,077 -   - Using boundary condition ['1.0', '0.0', '0.0', '0.0']\n",
      "2018-10-05 13:15:12,079 - Using 1 cycles\n",
      "2018-10-05 13:15:12,080 - Not using randomizations\n",
      "2018-10-05 13:15:12,081 - Adding atmospheres\n",
      "2018-10-05 13:15:12,082 -   - New available photosphere : ph1\n",
      "2018-10-05 13:15:12,083 -     * Adding line : [300]\n",
      "2018-10-05 13:15:12,084 -     * Magnetic field reference frame : vertical\n",
      "2018-10-05 13:15:12,086 -     * Reading 1D model photospheres/model_photosphere_200.1d as reference\n",
      "2018-10-05 13:15:12,098 -   - New available chromosphere : ch1\n",
      "2018-10-05 13:15:12,100 -     * Adding line : 10830\n",
      "2018-10-05 13:15:12,101 -     * Magnetic field reference frame : vertical\n",
      "2018-10-05 13:15:12,103 -     * Reading 1D model chromospheres/model_chromosphere.1d as reference\n",
      "2018-10-05 13:15:12,106 -   - New available parametric : te1\n",
      "2018-10-05 13:15:12,108 -     * Reading 1D model telluric/model_telluric.1d as reference\n",
      "2018-10-05 13:15:12,112 - Adding topologies\n",
      "2018-10-05 13:15:12,114 -   - ph1 -> ch1 -> te1\n",
      "2018-10-05 13:15:12,115 - Removing unused atmospheres\n",
      "2018-10-05 13:15:12,118 - Number of pixels to invert : 1\n",
      "2018-10-05 13:15:12,124 - Total number of free parameters in all cycles : 2\n",
      "2018-10-05 13:15:12,267 - -------------\n",
      "2018-10-05 13:15:12,269 -   Cycle 0  \n",
      "2018-10-05 13:15:12,271 -   Weights for region spec1 : SI=1.0 - SQ=0.0 - SU=0.0 - SV=0.0\n",
      "2018-10-05 13:15:12,272 - -------------\n",
      "2018-10-05 13:15:12,455 - chi2: 125564.43598802562\n",
      "2018-10-05 13:15:12,495 - chi2: 124496.27909695522\n",
      "2018-10-05 13:15:12,547 - chi2: 123490.76389857827\n",
      "2018-10-05 13:15:12,604 - chi2: 120885.94284662277\n",
      "2018-10-05 13:15:12,648 - chi2: 117623.63881049787\n",
      "2018-10-05 13:15:12,704 - chi2: 110976.57319782951\n",
      "2018-10-05 13:15:12,742 - chi2: 101590.31598667121\n",
      "2018-10-05 13:15:12,794 - chi2: 85109.6042866381\n",
      "2018-10-05 13:15:12,830 - chi2: 62061.21827603196\n",
      "2018-10-05 13:15:12,873 - chi2: 29897.891312097447\n",
      "2018-10-05 13:15:12,920 - chi2: 2271.053627976132\n",
      "2018-10-05 13:15:12,973 - chi2: 31068.800210766953\n",
      "2018-10-05 13:15:13,032 - chi2: 5927.929753805576\n",
      "2018-10-05 13:15:13,091 - chi2: 1272.9286353707778\n",
      "2018-10-05 13:15:13,146 - chi2: 142.51197748247324\n",
      "2018-10-05 13:15:13,176 - chi2: 183.33317733495977\n",
      "2018-10-05 13:15:13,224 - chi2: 234.35171115647384\n",
      "2018-10-05 13:15:13,268 - chi2: 98.33310469135667\n",
      "2018-10-05 13:15:13,285 - chi2: 113.76563044282125\n",
      "2018-10-05 13:15:13,324 - chi2: 98.65194908897094\n",
      "2018-10-05 13:15:13,372 - chi2: 99.59996519044533\n",
      "2018-10-05 13:15:13,430 - chi2: 96.11028356161597\n",
      "2018-10-05 13:15:13,474 - chi2: 95.06271142090525\n",
      "2018-10-05 13:15:13,503 - chi2: 96.02685848512122\n",
      "2018-10-05 13:15:13,544 - chi2: 95.0502286870955\n",
      "2018-10-05 13:15:13,594 - chi2: 95.24236777574919\n",
      "2018-10-05 13:15:13,642 - chi2: 95.06416108798282\n",
      "2018-10-05 13:15:13,693 - chi2: 95.02008091242597\n",
      "2018-10-05 13:15:13,743 - chi2: 95.0081279292079\n",
      "2018-10-05 13:15:13,801 - chi2: 95.0100844312336\n",
      "2018-10-05 13:15:13,858 - chi2: 95.00854433549637\n",
      "2018-10-05 13:15:13,910 - chi2: 95.00701263681813\n",
      "2018-10-05 13:15:13,967 - chi2: 95.00785779470381\n",
      "2018-10-05 13:15:14,065 - chi2: 95.00752961250782\n",
      "2018-10-05 13:15:14,093 - chi2: 95.00678782458138\n",
      "2018-10-05 13:15:14,136 - chi2: 95.00587934115195\n",
      "2018-10-05 13:15:14,186 - chi2: 95.00539576972953\n",
      "2018-10-05 13:15:14,280 - chi2: 95.00832288098039\n",
      "2018-10-05 13:15:14,306 - chi2: 95.00788259781089\n",
      "2018-10-05 13:15:14,357 - chi2: 95.00580342664088\n",
      "2018-10-05 13:15:14,415 - chi2: 95.00594549098038\n",
      "2018-10-05 13:15:14,524 - chi2: 95.00889906961734\n",
      "2018-10-05 13:15:14,554 - chi2: 95.006468246154\n",
      "2018-10-05 13:15:14,604 - chi2: 95.00753244396797\n",
      "2018-10-05 13:15:14,656 - chi2: 95.00535718133841\n",
      "2018-10-05 13:15:14,721 - chi2: 95.00605072433328\n",
      "2018-10-05 13:15:14,816 - chi2: 95.00498590776384\n",
      "2018-10-05 13:15:14,866 - chi2: 95.00615316162595\n",
      "2018-10-05 13:15:14,940 - chi2: 95.00529742673511\n",
      "2018-10-05 13:15:14,987 - chi2: 95.00481793371408\n",
      "2018-10-05 13:15:15,030 - chi2: 95.00481793371408\n",
      "2018-10-05 13:15:15,079 - chi2: 95.0041412624077\n",
      "2018-10-05 13:15:15,177 - chi2: 95.00481793371408\n",
      "2018-10-05 13:15:15,283 - chi2: 95.0041412624077\n",
      "2018-10-05 13:15:15,320 - chi2: 95.0041412624077\n"
     ]
    },
    {
     "ename": "AttributeError",
     "evalue": "'Model' object has no attribute 'n_free_parameters_cycle'",
     "output_type": "error",
     "traceback": [
      "\u001b[0;31m---------------------------------------------------------------------------\u001b[0m",
      "\u001b[0;31mAttributeError\u001b[0m                            Traceback (most recent call last)",
      "\u001b[0;32m<ipython-input-6-fdc692bc6e7d>\u001b[0m in \u001b[0;36m<module>\u001b[0;34m()\u001b[0m\n\u001b[1;32m      2\u001b[0m \u001b[0mmod\u001b[0m\u001b[0;34m.\u001b[0m\u001b[0mread_observation\u001b[0m\u001b[0;34m(\u001b[0m\u001b[0;34m)\u001b[0m\u001b[0;34m\u001b[0m\u001b[0m\n\u001b[1;32m      3\u001b[0m \u001b[0mmod\u001b[0m\u001b[0;34m.\u001b[0m\u001b[0mopen_output\u001b[0m\u001b[0;34m(\u001b[0m\u001b[0;34m)\u001b[0m\u001b[0;34m\u001b[0m\u001b[0m\n\u001b[0;32m----> 4\u001b[0;31m \u001b[0mmod\u001b[0m\u001b[0;34m.\u001b[0m\u001b[0minvert_external\u001b[0m\u001b[0;34m(\u001b[0m\u001b[0mminimize\u001b[0m\u001b[0;34m,\u001b[0m \u001b[0mmethod\u001b[0m\u001b[0;34m=\u001b[0m\u001b[0;34m'Nelder-Mead'\u001b[0m\u001b[0;34m)\u001b[0m\u001b[0;34m\u001b[0m\u001b[0m\n\u001b[0m\u001b[1;32m      5\u001b[0m \u001b[0mmod\u001b[0m\u001b[0;34m.\u001b[0m\u001b[0mwrite_output\u001b[0m\u001b[0;34m(\u001b[0m\u001b[0;34m)\u001b[0m\u001b[0;34m\u001b[0m\u001b[0m\n\u001b[1;32m      6\u001b[0m \u001b[0mmod\u001b[0m\u001b[0;34m.\u001b[0m\u001b[0mclose_output\u001b[0m\u001b[0;34m(\u001b[0m\u001b[0;34m)\u001b[0m\u001b[0;34m\u001b[0m\u001b[0m\n",
      "\u001b[0;32m/scratch/Dropbox/GIT/hazel2/hazel/model.py\u001b[0m in \u001b[0;36minvert_external\u001b[0;34m(self, algorithm, use_jacobian, **kwargs)\u001b[0m\n\u001b[1;32m   1651\u001b[0m                 \u001b[0mtmp\u001b[0m \u001b[0;34m=\u001b[0m \u001b[0malgorithm\u001b[0m\u001b[0;34m(\u001b[0m\u001b[0mself\u001b[0m\u001b[0;34m.\u001b[0m\u001b[0m_func_nograd\u001b[0m\u001b[0;34m,\u001b[0m \u001b[0mself\u001b[0m\u001b[0;34m.\u001b[0m\u001b[0mnodes\u001b[0m\u001b[0;34m,\u001b[0m \u001b[0mcallback\u001b[0m\u001b[0;34m=\u001b[0m\u001b[0mself\u001b[0m\u001b[0;34m.\u001b[0m\u001b[0m_callback_general\u001b[0m\u001b[0;34m,\u001b[0m \u001b[0;34m**\u001b[0m\u001b[0mkwargs\u001b[0m\u001b[0;34m)\u001b[0m\u001b[0;34m\u001b[0m\u001b[0m\n\u001b[1;32m   1652\u001b[0m \u001b[0;34m\u001b[0m\u001b[0m\n\u001b[0;32m-> 1653\u001b[0;31m             \u001b[0mself\u001b[0m\u001b[0;34m.\u001b[0m\u001b[0m_func_grad\u001b[0m\u001b[0;34m(\u001b[0m\u001b[0mtmp\u001b[0m\u001b[0;34m[\u001b[0m\u001b[0;34m'x'\u001b[0m\u001b[0;34m]\u001b[0m\u001b[0;34m)\u001b[0m\u001b[0;34m\u001b[0m\u001b[0m\n\u001b[0m\u001b[1;32m   1654\u001b[0m             \u001b[0mself\u001b[0m\u001b[0;34m.\u001b[0m\u001b[0m_callback_general\u001b[0m\u001b[0;34m(\u001b[0m\u001b[0mtmp\u001b[0m\u001b[0;34m[\u001b[0m\u001b[0;34m'x'\u001b[0m\u001b[0;34m]\u001b[0m\u001b[0;34m)\u001b[0m\u001b[0;34m\u001b[0m\u001b[0m\n\u001b[1;32m   1655\u001b[0m \u001b[0;34m\u001b[0m\u001b[0m\n",
      "\u001b[0;32m/scratch/Dropbox/GIT/hazel2/hazel/model.py\u001b[0m in \u001b[0;36m_func_grad\u001b[0;34m(self, x)\u001b[0m\n\u001b[1;32m   1595\u001b[0m         \u001b[0mself\u001b[0m\u001b[0;34m.\u001b[0m\u001b[0mnodes\u001b[0m \u001b[0;34m=\u001b[0m \u001b[0mx\u001b[0m\u001b[0;34m\u001b[0m\u001b[0m\n\u001b[1;32m   1596\u001b[0m         \u001b[0mself\u001b[0m\u001b[0;34m.\u001b[0m\u001b[0mset_new_model\u001b[0m\u001b[0;34m(\u001b[0m\u001b[0mself\u001b[0m\u001b[0;34m.\u001b[0m\u001b[0mnodes\u001b[0m\u001b[0;34m)\u001b[0m\u001b[0;34m\u001b[0m\u001b[0m\n\u001b[0;32m-> 1597\u001b[0;31m         \u001b[0mself\u001b[0m\u001b[0;34m.\u001b[0m\u001b[0msynthesize_and_compute_rf\u001b[0m\u001b[0;34m(\u001b[0m\u001b[0mcompute_rf\u001b[0m\u001b[0;34m=\u001b[0m\u001b[0;32mTrue\u001b[0m\u001b[0;34m)\u001b[0m\u001b[0;34m\u001b[0m\u001b[0m\n\u001b[0m\u001b[1;32m   1598\u001b[0m         \u001b[0mself\u001b[0m\u001b[0;34m.\u001b[0m\u001b[0mchi2\u001b[0m\u001b[0;34m,\u001b[0m \u001b[0mdchi2\u001b[0m\u001b[0;34m,\u001b[0m \u001b[0m_\u001b[0m \u001b[0;34m=\u001b[0m \u001b[0mself\u001b[0m\u001b[0;34m.\u001b[0m\u001b[0mcompute_chi2\u001b[0m\u001b[0;34m(\u001b[0m\u001b[0;34m)\u001b[0m\u001b[0;34m\u001b[0m\u001b[0m\n\u001b[1;32m   1599\u001b[0m         \u001b[0;32mreturn\u001b[0m \u001b[0mself\u001b[0m\u001b[0;34m.\u001b[0m\u001b[0mchi2\u001b[0m\u001b[0;34m,\u001b[0m \u001b[0mdchi2\u001b[0m\u001b[0;34m\u001b[0m\u001b[0m\n",
      "\u001b[0;32m/scratch/Dropbox/GIT/hazel2/hazel/model.py\u001b[0m in \u001b[0;36msynthesize_and_compute_rf\u001b[0;34m(self, compute_rf, include_jacobian)\u001b[0m\n\u001b[1;32m   1081\u001b[0m         \u001b[0mloop\u001b[0m \u001b[0;34m=\u001b[0m \u001b[0;36m0\u001b[0m\u001b[0;34m\u001b[0m\u001b[0m\n\u001b[1;32m   1082\u001b[0m \u001b[0;34m\u001b[0m\u001b[0m\n\u001b[0;32m-> 1083\u001b[0;31m         \u001b[0mself\u001b[0m\u001b[0;34m.\u001b[0m\u001b[0mhessian_regularization\u001b[0m \u001b[0;34m=\u001b[0m \u001b[0mnp\u001b[0m\u001b[0;34m.\u001b[0m\u001b[0mzeros\u001b[0m\u001b[0;34m(\u001b[0m\u001b[0mself\u001b[0m\u001b[0;34m.\u001b[0m\u001b[0mn_free_parameters_cycle\u001b[0m\u001b[0;34m)\u001b[0m\u001b[0;34m\u001b[0m\u001b[0m\n\u001b[0m\u001b[1;32m   1084\u001b[0m         \u001b[0mself\u001b[0m\u001b[0;34m.\u001b[0m\u001b[0mgrad_regularization\u001b[0m \u001b[0;34m=\u001b[0m \u001b[0mnp\u001b[0m\u001b[0;34m.\u001b[0m\u001b[0mzeros\u001b[0m\u001b[0;34m(\u001b[0m\u001b[0mself\u001b[0m\u001b[0;34m.\u001b[0m\u001b[0mn_free_parameters_cycle\u001b[0m\u001b[0;34m)\u001b[0m\u001b[0;34m\u001b[0m\u001b[0m\n\u001b[1;32m   1085\u001b[0m \u001b[0;34m\u001b[0m\u001b[0m\n",
      "\u001b[0;31mAttributeError\u001b[0m: 'Model' object has no attribute 'n_free_parameters_cycle'"
     ]
    }
   ],
   "source": [
    "mod = hazel.Model('conf_single.ini', working_mode='inversion', verbose=2)\n",
    "mod.read_observation()\n",
    "mod.open_output()\n",
    "mod.invert_external(minimize, method='Nelder-Mead')\n",
    "mod.write_output()\n",
    "mod.close_output()"
   ]
  },
  {
   "cell_type": "markdown",
   "metadata": {},
   "source": [
    "Now we plot the results."
   ]
  },
  {
   "cell_type": "code",
   "execution_count": 16,
   "metadata": {},
   "outputs": [
    {
     "name": "stderr",
     "output_type": "stream",
     "text": [
      "/scratch/miniconda3/envs/py36/lib/python3.6/site-packages/matplotlib/figure.py:2267: UserWarning: This figure includes Axes that are not compatible with tight_layout, so results might be incorrect.\n",
      "  warnings.warn(\"This figure includes Axes that are not compatible \"\n"
     ]
    },
    {
     "data": {
      "image/png": "[encoded data removed]",
      "text/plain": [
       "<Figure size 432x288 with 1 Axes>"
      ]
     },
     "metadata": {},
     "output_type": "display_data"
    }
   ],
   "source": [
    "final = np.loadtxt('photospheres/model_photosphere.1d', skiprows=4)\n",
    "start = np.loadtxt('photospheres/model_photosphere_200.1d', skiprows=4)\n",
    "f = h5py.File('output.h5')\n",
    "pl.plot(f['ph1']['T'][0,0,:])\n",
    "pl.plot(final[:,1])\n",
    "pl.plot(start[:,1], 'x')\n",
    "f.close()"
   ]
  },
  {
   "cell_type": "markdown",
   "metadata": {},
   "source": [
    "Now let's use an optimizer that uses first-order derivatives. Let's select the Newton-CG method:"
   ]
  },
  {
   "cell_type": "code",
   "execution_count": 17,
   "metadata": {},
   "outputs": [
    {
     "name": "stderr",
     "output_type": "stream",
     "text": [
      "2018-07-10 16:50:45,019 - Adding spectral region spec1\n",
      "2018-07-10 16:50:45,021 -   - Reading wavelength axis from observations/10830.wavelength\n",
      "2018-07-10 16:50:45,027 -   - Reading wavelength weights from observations/10830.weights\n",
      "2018-07-10 16:50:45,034 -   - Using observations from observations/10830_stokes.1d\n",
      "2018-07-10 16:50:45,036 -   - No mask for pixels\n",
      "2018-07-10 16:50:45,038 -   - Using LOS ['0.0', '0.0', '90.0']\n",
      "2018-07-10 16:50:45,039 -   - Using boundary condition ['1.0', '0.0', '0.0', '0.0']\n",
      "2018-07-10 16:50:45,041 - Using 1 cycles\n",
      "2018-07-10 16:50:45,043 - Adding atmospheres\n",
      "2018-07-10 16:50:45,045 -   - New available photosphere : ph1\n",
      "2018-07-10 16:50:45,046 -     * Adding line : [300]\n",
      "2018-07-10 16:50:45,048 -     * Magnetic field reference frame : vertical\n",
      "2018-07-10 16:50:45,050 -     * Reading 1D model photospheres/model_photosphere_200.1d as reference\n",
      "2018-07-10 16:50:45,057 -   - New available chromosphere : ch1\n",
      "2018-07-10 16:50:45,059 -     * Adding line : 10830\n",
      "2018-07-10 16:50:45,060 -     * Magnetic field reference frame : vertical\n",
      "2018-07-10 16:50:45,062 -     * Reading 1D model chromospheres/model_chromosphere.1d as reference\n",
      "/scratch/Dropbox/GIT/hazel2/hazel/transforms.py:19: RuntimeWarning: divide by zero encountered in log\n",
      "  return np.log(x / (1.0 - x))\n",
      "2018-07-10 16:50:45,066 -   - New available parametric : te1\n",
      "2018-07-10 16:50:45,068 -     * Reading 1D model telluric/model_telluric.1d as reference\n",
      "2018-07-10 16:50:45,070 - Adding topologies\n",
      "2018-07-10 16:50:45,071 -   - ph1 -> ch1 -> te1\n",
      "2018-07-10 16:50:45,073 - Removing unused atmospheres\n",
      "2018-07-10 16:50:45,074 - Number of pixels to invert : 1\n",
      "2018-07-10 16:50:45,098 - -------------\n",
      "2018-07-10 16:50:45,099 -   Cycle 0  \n",
      "2018-07-10 16:50:45,101 -   Weights for region spec1 : SI=1.0 - SQ=0.0 - SU=0.0 - SV=0.0\n",
      "2018-07-10 16:50:45,102 - -------------\n",
      "2018-07-10 16:50:45,930 - chi2: 60596.95373734312\n",
      "2018-07-10 16:50:46,542 - chi2: 243.02449839565205\n",
      "2018-07-10 16:50:54,937 - chi2: 243.02449839565205\n"
     ]
    }
   ],
   "source": [
    "mod = hazel.Model('conf_single.ini', working_mode='inversion', verbose=2)\n",
    "mod.read_observation()\n",
    "mod.open_output()\n",
    "mod.invert_external(minimize, use_jacobian=True, method='Newton-CG')\n",
    "mod.write_output()\n",
    "mod.close_output()"
   ]
  },
  {
   "cell_type": "code",
   "execution_count": 7,
   "metadata": {},
   "outputs": [
    {
     "data": {
      "image/png": "[encoded data removed]",
      "text/plain": [
       "<Figure size 432x288 with 1 Axes>"
      ]
     },
     "metadata": {},
     "output_type": "display_data"
    }
   ],
   "source": [
    "final = np.loadtxt('photospheres/model_photosphere.1d', skiprows=4)\n",
    "start = np.loadtxt('photospheres/model_photosphere_200.1d', skiprows=4)\n",
    "f = h5py.File('output.h5')\n",
    "pl.plot(f['ph1']['T'][0,0,:])\n",
    "pl.plot(final[:,1])\n",
    "pl.plot(start[:,1], 'x')\n",
    "f.close()"
   ]
  },
  {
   "cell_type": "markdown",
   "metadata": {},
   "source": [
    "### Using other external optimizers (pro-mode)\n",
    "Using non-SciPy optimizers is slightly more complicated. For this purpose Hazel provides the necessary tools to use them. Here we show an example using the well-known Adam optimizer, broadly used for training deep neural networks. It is a first-order optimizer which uses derivative information. Let us first define a class that implements the Adam optimizer:"
   ]
  },
  {
   "cell_type": "code",
   "execution_count": 8,
   "metadata": {},
   "outputs": [],
   "source": [
    "class AdamOptimizer:\n",
    "    def __init__(self, fun, x0, alpha=0.001, beta1=0.9, beta2=0.999, epsilon=1e-8):\n",
    "        self.alpha = alpha\n",
    "        self.beta1 = beta1\n",
    "        self.beta2 = beta2\n",
    "        self.epsilon = epsilon\n",
    "        self.m = 0\n",
    "        self.v = 0\n",
    "        self.t = 0\n",
    "        self.theta = x0\n",
    "        self.fun = fun\n",
    "\n",
    "    def optimize(self, n_iter):\n",
    "        for i in range(n_iter):\n",
    "            f, gradient = self.fun(self.theta)\n",
    "            self.t = self.t + 1\n",
    "            self.m = self.beta1*self.m + (1 - self.beta1)*gradient\n",
    "            self.v = self.beta2*self.v + (1 - self.beta2)*(gradient**2)\n",
    "            m_hat = self.m/(1 - self.beta1**self.t)\n",
    "            v_hat = self.v/(1 - self.beta2**self.t)\n",
    "            self.theta = self.theta - self.alpha*(m_hat/(np.sqrt(v_hat) - self.epsilon))\n",
    "            print(\"Iter: {0} - chi2: {1}\".format(self.t, f))\n",
    "        return self.theta"
   ]
  },
  {
   "cell_type": "markdown",
   "metadata": {},
   "source": [
    "Now we instantiate the model, read the observations and open the output. Next, we need to follow what `invert_external` does. First, compute some factors used internally by Hazel. Loop over all cycles with the following steps: i) find the active parameters, ii) instantiate the optimizer with the `_func_grad` function provided by Hazel, iii) call the optimizer, iv) set the final model and v) propagate the new parameters to the final ones. Finally, we write the output."
   ]
  },
  {
   "cell_type": "code",
   "execution_count": 9,
   "metadata": {},
   "outputs": [
    {
     "name": "stderr",
     "output_type": "stream",
     "text": [
      "2018-10-05 13:15:27,266 - Adding spectral region spec1\n",
      "2018-10-05 13:15:27,268 -   - Reading wavelength axis from observations/10830.wavelength\n",
      "2018-10-05 13:15:27,271 -   - Reading wavelength weights from observations/10830.weights\n",
      "2018-10-05 13:15:27,275 -   - Using observations from observations/10830_stokes.1d\n",
      "2018-10-05 13:15:27,277 -   - No mask for pixels\n",
      "2018-10-05 13:15:27,279 -   - No instrumental profile\n",
      "2018-10-05 13:15:27,280 -   - Using LOS ['0.0', '0.0', '90.0']\n",
      "2018-10-05 13:15:27,282 -   - Using boundary condition ['1.0', '0.0', '0.0', '0.0']\n",
      "2018-10-05 13:15:27,283 - Using 1 cycles\n",
      "2018-10-05 13:15:27,285 - Not using randomizations\n",
      "2018-10-05 13:15:27,290 - Adding atmospheres\n",
      "2018-10-05 13:15:27,292 -   - New available photosphere : ph1\n",
      "2018-10-05 13:15:27,294 -     * Adding line : [300]\n",
      "2018-10-05 13:15:27,296 -     * Magnetic field reference frame : vertical\n",
      "2018-10-05 13:15:27,301 -     * Reading 1D model photospheres/model_photosphere_200.1d as reference\n",
      "2018-10-05 13:15:27,305 -   - New available chromosphere : ch1\n",
      "2018-10-05 13:15:27,307 -     * Adding line : 10830\n",
      "2018-10-05 13:15:27,308 -     * Magnetic field reference frame : vertical\n",
      "2018-10-05 13:15:27,310 -     * Reading 1D model chromospheres/model_chromosphere.1d as reference\n",
      "2018-10-05 13:15:27,315 -   - New available parametric : te1\n",
      "2018-10-05 13:15:27,317 -     * Reading 1D model telluric/model_telluric.1d as reference\n",
      "2018-10-05 13:15:27,320 - Adding topologies\n",
      "2018-10-05 13:15:27,321 -   - ph1 -> ch1 -> te1\n",
      "2018-10-05 13:15:27,323 - Removing unused atmospheres\n",
      "2018-10-05 13:15:27,324 - Number of pixels to invert : 1\n",
      "2018-10-05 13:15:27,329 - Total number of free parameters in all cycles : 2\n"
     ]
    },
    {
     "ename": "OSError",
     "evalue": "Unable to create file (unable to truncate a file which is already open)",
     "output_type": "error",
     "traceback": [
      "\u001b[0;31m---------------------------------------------------------------------------\u001b[0m",
      "\u001b[0;31mOSError\u001b[0m                                   Traceback (most recent call last)",
      "\u001b[0;32m<ipython-input-9-a3e31dbce02b>\u001b[0m in \u001b[0;36m<module>\u001b[0;34m()\u001b[0m\n\u001b[1;32m      1\u001b[0m \u001b[0mmod\u001b[0m \u001b[0;34m=\u001b[0m \u001b[0mhazel\u001b[0m\u001b[0;34m.\u001b[0m\u001b[0mModel\u001b[0m\u001b[0;34m(\u001b[0m\u001b[0;34m'conf_single.ini'\u001b[0m\u001b[0;34m,\u001b[0m \u001b[0mworking_mode\u001b[0m\u001b[0;34m=\u001b[0m\u001b[0;34m'inversion'\u001b[0m\u001b[0;34m,\u001b[0m \u001b[0mverbose\u001b[0m\u001b[0;34m=\u001b[0m\u001b[0;36m2\u001b[0m\u001b[0;34m)\u001b[0m\u001b[0;34m\u001b[0m\u001b[0m\n\u001b[1;32m      2\u001b[0m \u001b[0mmod\u001b[0m\u001b[0;34m.\u001b[0m\u001b[0mread_observation\u001b[0m\u001b[0;34m(\u001b[0m\u001b[0;34m)\u001b[0m\u001b[0;34m\u001b[0m\u001b[0m\n\u001b[0;32m----> 3\u001b[0;31m \u001b[0mmod\u001b[0m\u001b[0;34m.\u001b[0m\u001b[0mopen_output\u001b[0m\u001b[0;34m(\u001b[0m\u001b[0;34m)\u001b[0m\u001b[0;34m\u001b[0m\u001b[0m\n\u001b[0m\u001b[1;32m      4\u001b[0m \u001b[0;34m\u001b[0m\u001b[0m\n\u001b[1;32m      5\u001b[0m \u001b[0;32mfor\u001b[0m \u001b[0mk\u001b[0m\u001b[0;34m,\u001b[0m \u001b[0mv\u001b[0m \u001b[0;32min\u001b[0m \u001b[0mmod\u001b[0m\u001b[0;34m.\u001b[0m\u001b[0mspectrum\u001b[0m\u001b[0;34m.\u001b[0m\u001b[0mitems\u001b[0m\u001b[0;34m(\u001b[0m\u001b[0;34m)\u001b[0m\u001b[0;34m:\u001b[0m\u001b[0;34m\u001b[0m\u001b[0m\n",
      "\u001b[0;32m/scratch/Dropbox/GIT/hazel2/hazel/model.py\u001b[0m in \u001b[0;36mopen_output\u001b[0;34m(self)\u001b[0m\n\u001b[1;32m    311\u001b[0m     \u001b[0;32mdef\u001b[0m \u001b[0mopen_output\u001b[0m\u001b[0;34m(\u001b[0m\u001b[0mself\u001b[0m\u001b[0;34m)\u001b[0m\u001b[0;34m:\u001b[0m\u001b[0;34m\u001b[0m\u001b[0m\n\u001b[1;32m    312\u001b[0m         \u001b[0mself\u001b[0m\u001b[0;34m.\u001b[0m\u001b[0moutput_handler\u001b[0m \u001b[0;34m=\u001b[0m \u001b[0mGeneric_output_file\u001b[0m\u001b[0;34m(\u001b[0m\u001b[0mself\u001b[0m\u001b[0;34m.\u001b[0m\u001b[0moutput_file\u001b[0m\u001b[0;34m)\u001b[0m\u001b[0;34m\u001b[0m\u001b[0m\n\u001b[0;32m--> 313\u001b[0;31m         \u001b[0mself\u001b[0m\u001b[0;34m.\u001b[0m\u001b[0moutput_handler\u001b[0m\u001b[0;34m.\u001b[0m\u001b[0mopen\u001b[0m\u001b[0;34m(\u001b[0m\u001b[0mself\u001b[0m\u001b[0;34m)\u001b[0m\u001b[0;34m\u001b[0m\u001b[0m\n\u001b[0m\u001b[1;32m    314\u001b[0m \u001b[0;34m\u001b[0m\u001b[0m\n\u001b[1;32m    315\u001b[0m     \u001b[0;32mdef\u001b[0m \u001b[0mclose_output\u001b[0m\u001b[0;34m(\u001b[0m\u001b[0mself\u001b[0m\u001b[0;34m)\u001b[0m\u001b[0;34m:\u001b[0m\u001b[0;34m\u001b[0m\u001b[0m\n",
      "\u001b[0;32m/scratch/Dropbox/GIT/hazel2/hazel/io.py\u001b[0m in \u001b[0;36mopen\u001b[0;34m(self, model)\u001b[0m\n\u001b[1;32m     31\u001b[0m             \u001b[0;31m# Open the file\u001b[0m\u001b[0;34m\u001b[0m\u001b[0;34m\u001b[0m\u001b[0m\n\u001b[1;32m     32\u001b[0m             \u001b[0;32mif\u001b[0m \u001b[0;34m(\u001b[0m\u001b[0mself\u001b[0m\u001b[0;34m.\u001b[0m\u001b[0mextension\u001b[0m \u001b[0;34m==\u001b[0m \u001b[0;34m'h5'\u001b[0m\u001b[0;34m)\u001b[0m\u001b[0;34m:\u001b[0m\u001b[0;34m\u001b[0m\u001b[0m\n\u001b[0;32m---> 33\u001b[0;31m                 \u001b[0mself\u001b[0m\u001b[0;34m.\u001b[0m\u001b[0mhandler\u001b[0m \u001b[0;34m=\u001b[0m \u001b[0mh5py\u001b[0m\u001b[0;34m.\u001b[0m\u001b[0mFile\u001b[0m\u001b[0;34m(\u001b[0m\u001b[0mself\u001b[0m\u001b[0;34m.\u001b[0m\u001b[0mfilename\u001b[0m\u001b[0;34m,\u001b[0m \u001b[0;34m'w'\u001b[0m\u001b[0;34m)\u001b[0m\u001b[0;34m\u001b[0m\u001b[0m\n\u001b[0m\u001b[1;32m     34\u001b[0m \u001b[0;34m\u001b[0m\u001b[0m\n\u001b[1;32m     35\u001b[0m             \u001b[0;32mif\u001b[0m \u001b[0;34m(\u001b[0m\u001b[0mself\u001b[0m\u001b[0;34m.\u001b[0m\u001b[0mextension\u001b[0m \u001b[0;34m==\u001b[0m \u001b[0;34m'zarr'\u001b[0m\u001b[0;34m)\u001b[0m\u001b[0;34m:\u001b[0m\u001b[0;34m\u001b[0m\u001b[0m\n",
      "\u001b[0;32m~/miniconda3/envs/py36/lib/python3.6/site-packages/h5py/_hl/files.py\u001b[0m in \u001b[0;36m__init__\u001b[0;34m(self, name, mode, driver, libver, userblock_size, swmr, **kwds)\u001b[0m\n\u001b[1;32m    267\u001b[0m             \u001b[0;32mwith\u001b[0m \u001b[0mphil\u001b[0m\u001b[0;34m:\u001b[0m\u001b[0;34m\u001b[0m\u001b[0m\n\u001b[1;32m    268\u001b[0m                 \u001b[0mfapl\u001b[0m \u001b[0;34m=\u001b[0m \u001b[0mmake_fapl\u001b[0m\u001b[0;34m(\u001b[0m\u001b[0mdriver\u001b[0m\u001b[0;34m,\u001b[0m \u001b[0mlibver\u001b[0m\u001b[0;34m,\u001b[0m \u001b[0;34m**\u001b[0m\u001b[0mkwds\u001b[0m\u001b[0;34m)\u001b[0m\u001b[0;34m\u001b[0m\u001b[0m\n\u001b[0;32m--> 269\u001b[0;31m                 \u001b[0mfid\u001b[0m \u001b[0;34m=\u001b[0m \u001b[0mmake_fid\u001b[0m\u001b[0;34m(\u001b[0m\u001b[0mname\u001b[0m\u001b[0;34m,\u001b[0m \u001b[0mmode\u001b[0m\u001b[0;34m,\u001b[0m \u001b[0muserblock_size\u001b[0m\u001b[0;34m,\u001b[0m \u001b[0mfapl\u001b[0m\u001b[0;34m,\u001b[0m \u001b[0mswmr\u001b[0m\u001b[0;34m=\u001b[0m\u001b[0mswmr\u001b[0m\u001b[0;34m)\u001b[0m\u001b[0;34m\u001b[0m\u001b[0m\n\u001b[0m\u001b[1;32m    270\u001b[0m \u001b[0;34m\u001b[0m\u001b[0m\n\u001b[1;32m    271\u001b[0m                 \u001b[0;32mif\u001b[0m \u001b[0mswmr_support\u001b[0m\u001b[0;34m:\u001b[0m\u001b[0;34m\u001b[0m\u001b[0m\n",
      "\u001b[0;32m~/miniconda3/envs/py36/lib/python3.6/site-packages/h5py/_hl/files.py\u001b[0m in \u001b[0;36mmake_fid\u001b[0;34m(name, mode, userblock_size, fapl, fcpl, swmr)\u001b[0m\n\u001b[1;32m    103\u001b[0m         \u001b[0mfid\u001b[0m \u001b[0;34m=\u001b[0m \u001b[0mh5f\u001b[0m\u001b[0;34m.\u001b[0m\u001b[0mcreate\u001b[0m\u001b[0;34m(\u001b[0m\u001b[0mname\u001b[0m\u001b[0;34m,\u001b[0m \u001b[0mh5f\u001b[0m\u001b[0;34m.\u001b[0m\u001b[0mACC_EXCL\u001b[0m\u001b[0;34m,\u001b[0m \u001b[0mfapl\u001b[0m\u001b[0;34m=\u001b[0m\u001b[0mfapl\u001b[0m\u001b[0;34m,\u001b[0m \u001b[0mfcpl\u001b[0m\u001b[0;34m=\u001b[0m\u001b[0mfcpl\u001b[0m\u001b[0;34m)\u001b[0m\u001b[0;34m\u001b[0m\u001b[0m\n\u001b[1;32m    104\u001b[0m     \u001b[0;32melif\u001b[0m \u001b[0mmode\u001b[0m \u001b[0;34m==\u001b[0m \u001b[0;34m'w'\u001b[0m\u001b[0;34m:\u001b[0m\u001b[0;34m\u001b[0m\u001b[0m\n\u001b[0;32m--> 105\u001b[0;31m         \u001b[0mfid\u001b[0m \u001b[0;34m=\u001b[0m \u001b[0mh5f\u001b[0m\u001b[0;34m.\u001b[0m\u001b[0mcreate\u001b[0m\u001b[0;34m(\u001b[0m\u001b[0mname\u001b[0m\u001b[0;34m,\u001b[0m \u001b[0mh5f\u001b[0m\u001b[0;34m.\u001b[0m\u001b[0mACC_TRUNC\u001b[0m\u001b[0;34m,\u001b[0m \u001b[0mfapl\u001b[0m\u001b[0;34m=\u001b[0m\u001b[0mfapl\u001b[0m\u001b[0;34m,\u001b[0m \u001b[0mfcpl\u001b[0m\u001b[0;34m=\u001b[0m\u001b[0mfcpl\u001b[0m\u001b[0;34m)\u001b[0m\u001b[0;34m\u001b[0m\u001b[0m\n\u001b[0m\u001b[1;32m    106\u001b[0m     \u001b[0;32melif\u001b[0m \u001b[0mmode\u001b[0m \u001b[0;34m==\u001b[0m \u001b[0;34m'a'\u001b[0m\u001b[0;34m:\u001b[0m\u001b[0;34m\u001b[0m\u001b[0m\n\u001b[1;32m    107\u001b[0m         \u001b[0;31m# Open in append mode (read/write).\u001b[0m\u001b[0;34m\u001b[0m\u001b[0;34m\u001b[0m\u001b[0m\n",
      "\u001b[0;32mh5py/_objects.pyx\u001b[0m in \u001b[0;36mh5py._objects.with_phil.wrapper\u001b[0;34m()\u001b[0m\n",
      "\u001b[0;32mh5py/_objects.pyx\u001b[0m in \u001b[0;36mh5py._objects.with_phil.wrapper\u001b[0;34m()\u001b[0m\n",
      "\u001b[0;32mh5py/h5f.pyx\u001b[0m in \u001b[0;36mh5py.h5f.create\u001b[0;34m()\u001b[0m\n",
      "\u001b[0;31mOSError\u001b[0m: Unable to create file (unable to truncate a file which is already open)"
     ]
    }
   ],
   "source": [
    "mod = hazel.Model('conf_single.ini', working_mode='inversion', verbose=2)\n",
    "mod.read_observation()\n",
    "mod.open_output()\n",
    "\n",
    "for k, v in mod.spectrum.items():\n",
    "    v.factor_chi2 = 1.0 / (v.noise**2 * v.dof)\n",
    "\n",
    "for mod.cycle in range(mod.n_cycles):\n",
    "    mod.find_active_parameters(mod.cycle)\n",
    "    n_pars = len(mod.nodes)\n",
    "    \n",
    "    optimizer = AdamOptimizer(mod._func_grad, mod.nodes)\n",
    "    \n",
    "    tmp = optimizer.optimize(300)\n",
    "    \n",
    "    mod.set_new_model(tmp)\n",
    "\n",
    "    mod.flatten_parameters_to_reference(mod.cycle)\n",
    "    \n",
    "mod.write_output()\n",
    "mod.close_output()"
   ]
  },
  {
   "cell_type": "code",
   "execution_count": 4,
   "metadata": {},
   "outputs": [
    {
     "name": "stderr",
     "output_type": "stream",
     "text": [
      "/scratch/miniconda3/envs/py36/lib/python3.6/site-packages/matplotlib/figure.py:2267: UserWarning: This figure includes Axes that are not compatible with tight_layout, so results might be incorrect.\n",
      "  warnings.warn(\"This figure includes Axes that are not compatible \"\n"
     ]
    },
    {
     "data": {
      "image/png": "[encoded data removed]",
      "text/plain": [
       "<Figure size 432x288 with 1 Axes>"
      ]
     },
     "metadata": {},
     "output_type": "display_data"
    }
   ],
   "source": [
    "final = np.loadtxt('photospheres/model_photosphere.1d', skiprows=4)\n",
    "start = np.loadtxt('photospheres/model_photosphere_200.1d', skiprows=4)\n",
    "f = h5py.File('output.h5')\n",
    "pl.plot(f['ph1']['T'][0,0,:])\n",
    "pl.plot(final[:,1])\n",
    "pl.plot(start[:,1], 'x')\n",
    "f.close()"
   ]
  },
  {
   "cell_type": "code",
   "execution_count": null,
   "metadata": {
    "collapsed": true
   },
   "outputs": [],
   "source": []
  }
 ],
 "metadata": {
  "kernelspec": {
   "display_name": "Python 3",
   "language": "python",
   "name": "python3"
  },
  "language_info": {
   "codemirror_mode": {
    "name": "ipython",
    "version": 3
   },
   "file_extension": ".py",
   "mimetype": "text/x-python",
   "name": "python",
   "nbconvert_exporter": "python",
   "pygments_lexer": "ipython3",
   "version": "3.6.5"
  }
 },
 "nbformat": 4,
 "nbformat_minor": 2
}
