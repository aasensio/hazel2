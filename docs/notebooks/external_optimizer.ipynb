{
 "cells": [
  {
   "cell_type": "markdown",
   "metadata": {},
   "source": [
    "# Using an external optimizer\n",
    "Hazel comes with a preconfigured efficient Levenberg-Marquard algorithm, but it can also use any external optimizer. It can seamlessly integrate all SciPy optimizers but it also provides the tools to use other optimizers."
   ]
  },
  {
   "cell_type": "code",
   "execution_count": 1,
   "metadata": {
    "collapsed": false
   },
   "outputs": [
    {
     "name": "stdout",
     "output_type": "stream",
     "text": [
      "2018.06.07\n"
     ]
    }
   ],
   "source": [
    "import numpy as np\n",
    "import matplotlib.pyplot as pl\n",
    "import hazel\n",
    "import h5py\n",
    "from scipy.optimize import minimize, differential_evolution\n",
    "print(hazel.__version__)\n",
    "label = ['I', 'Q', 'U', 'V']"
   ]
  },
  {
   "cell_type": "markdown",
   "metadata": {},
   "source": [
    "Let's start by generating a model by reading the following configuration file:"
   ]
  },
  {
   "cell_type": "code",
   "execution_count": 2,
   "metadata": {
    "collapsed": false
   },
   "outputs": [
    {
     "name": "stdout",
     "output_type": "stream",
     "text": [
      "# Hazel configuration File\r\n",
      "\r\n",
      "[Working mode]\r\n",
      "Output file = output.h5\r\n",
      "Number of cycles = 1\r\n",
      "\r\n",
      "# Topology\r\n",
      "# Always photosphere and then chromosphere\r\n",
      "# Photospheres are only allowed to be added with a filling factor\r\n",
      "# Atmospheres share a filling factor if they are in parenthesis\r\n",
      "# Atmospheres are one after the other with the -> operator\r\n",
      "# Atmosphere 1 = ph2 -> ch1 -> ch2\r\n",
      "\r\n",
      "[Spectral regions]\r\n",
      "    [[Region 1]]\r\n",
      "    Name = spec1\r\n",
      "    Wavelength = 10826, 10833, 150\r\n",
      "    Topology = ph1 -> ch1 -> te1\r\n",
      "    Stokes weights = 1.0, 1.0, 1.0, 1.0\r\n",
      "    LOS = 0.0, 0.0, 90.0\r\n",
      "    Boundary condition = 1.0, 0.0, 0.0, 0.0       # I/Ic(mu=1), Q/Ic(mu=1), U/Ic(mu=1), V/Ic(mu=1)\r\n",
      "    Wavelength file = 'observations/10830.wavelength'\r\n",
      "    Wavelength weight file = 'observations/10830.weights'\r\n",
      "    Observations file = 'observations/10830_stokes.1d'    \r\n",
      "    Weights Stokes I = 1.0, 0.0, 0.0, 0.0\r\n",
      "    Weights Stokes Q = 0.0, 0.0, 0.0, 0.0\r\n",
      "    Weights Stokes U = 0.0, 0.0, 0.0, 0.0\r\n",
      "    Weights Stokes V = 0.0, 0.0, 0.0, 0.0\r\n",
      "    Mask file = None\r\n",
      "\r\n",
      "[Atmospheres]\r\n",
      "\r\n",
      "    [[Photosphere 1]]\r\n",
      "    Name = ph1\r\n",
      "    Reference atmospheric model = 'photospheres/model_photosphere_200.1d'\r\n",
      "    Spectral region = spec1\r\n",
      "    Wavelength = 10826, 10833\r\n",
      "    Spectral lines = 300,\r\n",
      "\r\n",
      "        [[[Ranges]]]\r\n",
      "        T      = 2500.0, 9000.0\r\n",
      "        vmic   = 0.0, 3.0\r\n",
      "        v      = -10.0, 10.0\r\n",
      "        Bx     = -1000.0, 1000.0\r\n",
      "        By     = -1000.0, 1000.0\r\n",
      "        Bz     = -1000.0, 1000.0\r\n",
      "        ff     = 0.0, 1.001\r\n",
      "\r\n",
      "        [[[Nodes]]]\r\n",
      "        T      = 1, 1, 5, 5\r\n",
      "        vmic   = 1, 0, 1, 1\r\n",
      "        v      = 0, 0, 1, 1\r\n",
      "        Bx     = 0, 0, 1, 1\r\n",
      "        By     = 0, 0, 1, 1\r\n",
      "        Bz     = 0, 0, 1, 1\r\n",
      "        ff     = 0, 0, 0, 0\r\n",
      "\r\n",
      "\r\n",
      "    [[Chromosphere 1]]\r\n",
      "    Name = ch1                                              # Name of the atmosphere component\r\n",
      "    Spectral region = spec1                                 # Spectral region to be used for synthesis\r\n",
      "    Height = 3.0                                            # Height of the slab\r\n",
      "    Line = 10830                                            # 10830, 5876\r\n",
      "    Wavelength = 10828, 10833                         # Wavelength range used for synthesis\r\n",
      "    Reference atmospheric model = 'chromospheres/model_chromosphere.1d'    # File with model parameters\r\n",
      "\r\n",
      "        [[[Ranges]]]\r\n",
      "        Bx     = -500, 500\r\n",
      "        By     = -500, 500\r\n",
      "        Bz     = -500, 500\r\n",
      "        tau    = 0.1, 2.0\r\n",
      "        v      = -10.0, 10.0\r\n",
      "        deltav = 3.0, 12.0\r\n",
      "        beta   = 0.9, 2.0\r\n",
      "        a      = 0.0, 1.0\r\n",
      "        ff     = 0.0, 1.001\r\n",
      "        \r\n",
      "\r\n",
      "        [[[Nodes]]]\r\n",
      "        Bx     = 0, 0, 1, 1\r\n",
      "        By     = 0, 0, 1, 1\r\n",
      "        Bz     = 0, 0, 1, 1\r\n",
      "        tau    = 0, 0, 0, 0\r\n",
      "        v      = 0, 0, 0, 0\r\n",
      "        deltav = 0, 0, 0, 0\r\n",
      "        beta   = 0, 0, 0, 0\r\n",
      "        a      = 0, 0, 0, 0\r\n",
      "        ff     = 0, 0, 0, 0\r\n",
      "    \r\n",
      "    [[Parametric 1]]\r\n",
      "    Name = te1\r\n",
      "    Spectral region = spec1\r\n",
      "    Wavelength = 10828, 10833\r\n",
      "    Reference atmospheric model = 'telluric/model_telluric.1d'    # File with model parameters\r\n",
      "    Type = Voigt           # Voigt, MoGaussian, MoVoigt \r\n",
      "\r\n",
      "        [[[Ranges]]]\r\n",
      "        Lambda0 = 10832.0, 10834.0\r\n",
      "        Sigma = 0.1, 0.5\r\n",
      "        Depth = 0.2, 0.8\r\n",
      "        a = 0.0, 1.2\r\n",
      "        ff = 0.0, 1.001\r\n",
      "    \r\n",
      "        [[[Nodes]]]\r\n",
      "        Lambda0 = 0, 0, 0, 0\r\n",
      "        Sigma = 0, 0, 0, 0\r\n",
      "        Depth = 0, 0, 0, 0\r\n",
      "        a = 0, 0, 0, 0\r\n",
      "        ff = 0, 0, 0, 0\r\n"
     ]
    }
   ],
   "source": [
    "%cat conf_single.ini"
   ]
  },
  {
   "cell_type": "markdown",
   "metadata": {},
   "source": [
    "This is a very simple inversion in which only two variables are inverted. This is surely not realistic but serves for the purpose of showing how more complicated things can be done. Let's then read the configuration file and read the observation file defined in the configuration file."
   ]
  },
  {
   "cell_type": "code",
   "execution_count": 10,
   "metadata": {
    "collapsed": false
   },
   "outputs": [
    {
     "name": "stderr",
     "output_type": "stream",
     "text": [
      "2018-07-10 16:49:25,504 - Adding spectral region spec1\n",
      "2018-07-10 16:49:25,506 -   - Reading wavelength axis from observations/10830.wavelength\n",
      "2018-07-10 16:49:25,511 -   - Reading wavelength weights from observations/10830.weights\n",
      "2018-07-10 16:49:25,519 -   - Using observations from observations/10830_stokes.1d\n",
      "2018-07-10 16:49:25,520 -   - No mask for pixels\n",
      "2018-07-10 16:49:25,522 -   - Using LOS ['0.0', '0.0', '90.0']\n",
      "2018-07-10 16:49:25,524 -   - Using boundary condition ['1.0', '0.0', '0.0', '0.0']\n",
      "2018-07-10 16:49:25,526 - Using 1 cycles\n",
      "2018-07-10 16:49:25,527 - Adding atmospheres\n",
      "2018-07-10 16:49:25,529 -   - New available photosphere : ph1\n",
      "2018-07-10 16:49:25,531 -     * Adding line : [300]\n",
      "2018-07-10 16:49:25,532 -     * Magnetic field reference frame : vertical\n",
      "2018-07-10 16:49:25,534 -     * Reading 1D model photospheres/model_photosphere_200.1d as reference\n",
      "2018-07-10 16:49:25,541 -   - New available chromosphere : ch1\n",
      "2018-07-10 16:49:25,543 -     * Adding line : 10830\n",
      "2018-07-10 16:49:25,544 -     * Magnetic field reference frame : vertical\n",
      "2018-07-10 16:49:25,546 -     * Reading 1D model chromospheres/model_chromosphere.1d as reference\n",
      "/scratch/Dropbox/GIT/hazel2/hazel/transforms.py:19: RuntimeWarning: divide by zero encountered in log\n",
      "  return np.log(x / (1.0 - x))\n",
      "2018-07-10 16:49:25,549 -   - New available parametric : te1\n",
      "2018-07-10 16:49:25,551 -     * Reading 1D model telluric/model_telluric.1d as reference\n",
      "2018-07-10 16:49:25,553 - Adding topologies\n",
      "2018-07-10 16:49:25,554 -   - ph1 -> ch1 -> te1\n",
      "2018-07-10 16:49:25,555 - Removing unused atmospheres\n",
      "2018-07-10 16:49:25,556 - Number of pixels to invert : 1\n"
     ]
    }
   ],
   "source": [
    "# Test a single inversion in non-iterator mode\n",
    "mod = hazel.Model('conf_single.ini', working_mode='inversion', verbose=2)\n",
    "mod.read_observation()"
   ]
  },
  {
   "cell_type": "markdown",
   "metadata": {},
   "source": [
    "Next, let us invert it with the Levenberg-Marquartd algorithm provided by Hazel:"
   ]
  },
  {
   "cell_type": "code",
   "execution_count": 11,
   "metadata": {
    "collapsed": false
   },
   "outputs": [
    {
     "name": "stderr",
     "output_type": "stream",
     "text": [
      "2018-07-10 16:49:27,816 - -------------\n",
      "2018-07-10 16:49:27,818 -   Cycle 0  \n",
      "2018-07-10 16:49:27,819 -   Weights for region spec1 : SI=1.0 - SQ=0.0 - SU=0.0 - SV=0.0\n",
      "2018-07-10 16:49:27,821 - -------------\n",
      "2018-07-10 16:49:28,505 - It: 0 - chi2: 111.73449838540526 - lambda: 0.01827353919358589 - rel: -1.999999955306201\n",
      "2018-07-10 16:49:28,999 - It: 1 - chi2: 94.98983501701414 - lambda: 0.0018273539193585883 - rel: -0.16199992611218303\n",
      "2018-07-10 16:49:29,501 - It: 2 - chi2: 94.98411532156018 - lambda: 0.18273539193585883 - rel: -6.0215576333158097e-05\n"
     ]
    }
   ],
   "source": [
    "mod.open_output()\n",
    "mod.invert()\n",
    "mod.write_output()\n",
    "mod.close_output()"
   ]
  },
  {
   "cell_type": "code",
   "execution_count": 12,
   "metadata": {
    "collapsed": false
   },
   "outputs": [
    {
     "name": "stderr",
     "output_type": "stream",
     "text": [
      "/scratch/miniconda3/envs/py36/lib/python3.6/site-packages/matplotlib/figure.py:2267: UserWarning: This figure includes Axes that are not compatible with tight_layout, so results might be incorrect.\n",
      "  warnings.warn(\"This figure includes Axes that are not compatible \"\n"
     ]
    },
    {
     "data": {
      "image/png": "[encoded data removed]",
      "text/plain": [
       "<Figure size 432x288 with 1 Axes>"
      ]
     },
     "metadata": {},
     "output_type": "display_data"
    }
   ],
   "source": [
    "final = np.loadtxt('photospheres/model_photosphere.1d', skiprows=4)\n",
    "start = np.loadtxt('photospheres/model_photosphere_200.1d', skiprows=4)\n",
    "f = h5py.File('output.h5')\n",
    "pl.plot(f['ph1']['T'][0,0,:])\n",
    "pl.plot(final[:,1])\n",
    "pl.plot(start[:,1], 'x')\n",
    "f.close()"
   ]
  },
  {
   "cell_type": "markdown",
   "metadata": {},
   "source": [
    "### Using SciPy"
   ]
  },
  {
   "cell_type": "markdown",
   "metadata": {},
   "source": [
    "Then we open the output file, call `invert_external`, write the output and close it. `invert_external` allows the user to pass an SciPy optimizer and the arguments for the optimizer. The advantage of the SciPy optimizers is that they share the arguments. In this example, we'll use the Nelder-Mead algorithm, that does not use derivatives."
   ]
  },
  {
   "cell_type": "code",
   "execution_count": 15,
   "metadata": {
    "collapsed": false
   },
   "outputs": [
    {
     "name": "stderr",
     "output_type": "stream",
     "text": [
      "2018-07-10 16:50:34,398 - Adding spectral region spec1\n",
      "2018-07-10 16:50:34,400 -   - Reading wavelength axis from observations/10830.wavelength\n",
      "2018-07-10 16:50:34,405 -   - Reading wavelength weights from observations/10830.weights\n",
      "2018-07-10 16:50:34,410 -   - Using observations from observations/10830_stokes.1d\n",
      "2018-07-10 16:50:34,411 -   - No mask for pixels\n",
      "2018-07-10 16:50:34,413 -   - Using LOS ['0.0', '0.0', '90.0']\n",
      "2018-07-10 16:50:34,414 -   - Using boundary condition ['1.0', '0.0', '0.0', '0.0']\n",
      "2018-07-10 16:50:34,416 - Using 1 cycles\n",
      "2018-07-10 16:50:34,417 - Adding atmospheres\n",
      "2018-07-10 16:50:34,418 -   - New available photosphere : ph1\n",
      "2018-07-10 16:50:34,420 -     * Adding line : [300]\n",
      "2018-07-10 16:50:34,421 -     * Magnetic field reference frame : vertical\n",
      "2018-07-10 16:50:34,423 -     * Reading 1D model photospheres/model_photosphere_200.1d as reference\n",
      "2018-07-10 16:50:34,428 -   - New available chromosphere : ch1\n",
      "2018-07-10 16:50:34,430 -     * Adding line : 10830\n",
      "2018-07-10 16:50:34,431 -     * Magnetic field reference frame : vertical\n",
      "2018-07-10 16:50:34,433 -     * Reading 1D model chromospheres/model_chromosphere.1d as reference\n",
      "/scratch/Dropbox/GIT/hazel2/hazel/transforms.py:19: RuntimeWarning: divide by zero encountered in log\n",
      "  return np.log(x / (1.0 - x))\n",
      "2018-07-10 16:50:34,435 -   - New available parametric : te1\n",
      "2018-07-10 16:50:34,438 -     * Reading 1D model telluric/model_telluric.1d as reference\n",
      "2018-07-10 16:50:34,440 - Adding topologies\n",
      "2018-07-10 16:50:34,442 -   - ph1 -> ch1 -> te1\n",
      "2018-07-10 16:50:34,443 - Removing unused atmospheres\n",
      "2018-07-10 16:50:34,445 - Number of pixels to invert : 1\n",
      "2018-07-10 16:50:34,465 - -------------\n",
      "2018-07-10 16:50:34,466 -   Cycle 0  \n",
      "2018-07-10 16:50:34,467 -   Weights for region spec1 : SI=1.0 - SQ=0.0 - SU=0.0 - SV=0.0\n",
      "2018-07-10 16:50:34,469 - -------------\n",
      "2018-07-10 16:50:34,786 - chi2: 125564.4529130545\n",
      "2018-07-10 16:50:34,872 - chi2: 124496.3214348535\n",
      "2018-07-10 16:50:34,958 - chi2: 123490.74106284413\n",
      "2018-07-10 16:50:35,046 - chi2: 120885.88011847748\n",
      "2018-07-10 16:50:35,132 - chi2: 117623.65832245926\n",
      "2018-07-10 16:50:35,218 - chi2: 110976.53887870505\n",
      "2018-07-10 16:50:35,291 - chi2: 101590.27454454386\n",
      "2018-07-10 16:50:35,362 - chi2: 85109.58864592884\n",
      "2018-07-10 16:50:35,439 - chi2: 62061.268053355394\n",
      "2018-07-10 16:50:35,516 - chi2: 29897.882284641724\n",
      "2018-07-10 16:50:35,591 - chi2: 2271.049365143624\n",
      "2018-07-10 16:50:35,665 - chi2: 31068.81813138331\n",
      "2018-07-10 16:50:35,739 - chi2: 5927.908057527096\n",
      "2018-07-10 16:50:35,815 - chi2: 1272.9190332865046\n",
      "2018-07-10 16:50:35,890 - chi2: 142.51184834078546\n",
      "2018-07-10 16:50:35,927 - chi2: 183.33295079768192\n",
      "2018-07-10 16:50:36,003 - chi2: 234.35083900957918\n",
      "2018-07-10 16:50:36,079 - chi2: 98.33102992340683\n",
      "2018-07-10 16:50:36,117 - chi2: 113.76654724558232\n",
      "2018-07-10 16:50:36,193 - chi2: 98.65266266475989\n",
      "2018-07-10 16:50:36,270 - chi2: 99.60056766657681\n",
      "2018-07-10 16:50:36,346 - chi2: 96.10848605296472\n",
      "2018-07-10 16:50:36,422 - chi2: 95.06471143887754\n",
      "2018-07-10 16:50:36,460 - chi2: 96.02575878297957\n",
      "2018-07-10 16:50:36,536 - chi2: 95.05166618491364\n",
      "2018-07-10 16:50:36,613 - chi2: 95.24383289144538\n",
      "2018-07-10 16:50:36,687 - chi2: 95.06484894630181\n",
      "2018-07-10 16:50:36,765 - chi2: 95.0206615841897\n",
      "2018-07-10 16:50:36,844 - chi2: 95.0090891772437\n",
      "2018-07-10 16:50:36,920 - chi2: 95.01149023811593\n",
      "2018-07-10 16:50:36,998 - chi2: 95.00881016723746\n",
      "2018-07-10 16:50:37,081 - chi2: 95.00748938758666\n",
      "2018-07-10 16:50:37,163 - chi2: 95.00650159456738\n",
      "2018-07-10 16:50:37,242 - chi2: 95.0088554525491\n",
      "2018-07-10 16:50:37,322 - chi2: 95.00627518400826\n",
      "2018-07-10 16:50:37,401 - chi2: 95.00741780081334\n",
      "2018-07-10 16:50:37,556 - chi2: 95.0072635570367\n",
      "2018-07-10 16:50:37,706 - chi2: 95.00823333054304\n",
      "2018-07-10 16:50:37,781 - chi2: 95.00659468142904\n",
      "2018-07-10 16:50:37,819 - chi2: 95.00634116642779\n",
      "2018-07-10 16:50:37,968 - chi2: 95.00510979659232\n",
      "2018-07-10 16:50:38,112 - chi2: 95.00702964257985\n",
      "2018-07-10 16:50:38,147 - chi2: 95.00544016226114\n",
      "2018-07-10 16:50:38,300 - chi2: 95.007065849651\n",
      "2018-07-10 16:50:38,338 - chi2: 95.00585214134367\n",
      "2018-07-10 16:50:38,415 - chi2: 95.00664681424973\n",
      "2018-07-10 16:50:38,561 - chi2: 95.0053569047687\n",
      "2018-07-10 16:50:38,636 - chi2: 95.00409964141978\n",
      "2018-07-10 16:50:38,712 - chi2: 95.00558307121813\n",
      "2018-07-10 16:50:38,860 - chi2: 95.00447423182776\n",
      "2018-07-10 16:50:38,896 - chi2: 95.00447035669637\n",
      "2018-07-10 16:50:38,973 - chi2: 95.0037175316498\n",
      "2018-07-10 16:50:39,048 - chi2: 95.0037175316498\n",
      "2018-07-10 16:50:39,158 - chi2: 95.0037175316498\n"
     ]
    }
   ],
   "source": [
    "mod = hazel.Model('conf_single.ini', working_mode='inversion', verbose=2)\n",
    "mod.read_observation()\n",
    "mod.open_output()\n",
    "mod.invert_external(minimize, method='Nelder-Mead')\n",
    "mod.write_output()\n",
    "mod.close_output()"
   ]
  },
  {
   "cell_type": "markdown",
   "metadata": {},
   "source": [
    "Now we plot the results."
   ]
  },
  {
   "cell_type": "code",
   "execution_count": 16,
   "metadata": {
    "collapsed": false
   },
   "outputs": [
    {
     "name": "stderr",
     "output_type": "stream",
     "text": [
      "/scratch/miniconda3/envs/py36/lib/python3.6/site-packages/matplotlib/figure.py:2267: UserWarning: This figure includes Axes that are not compatible with tight_layout, so results might be incorrect.\n",
      "  warnings.warn(\"This figure includes Axes that are not compatible \"\n"
     ]
    },
    {
     "data": {
      "image/png": "[encoded data removed]",
      "text/plain": [
       "<Figure size 432x288 with 1 Axes>"
      ]
     },
     "metadata": {},
     "output_type": "display_data"
    }
   ],
   "source": [
    "final = np.loadtxt('photospheres/model_photosphere.1d', skiprows=4)\n",
    "start = np.loadtxt('photospheres/model_photosphere_200.1d', skiprows=4)\n",
    "f = h5py.File('output.h5')\n",
    "pl.plot(f['ph1']['T'][0,0,:])\n",
    "pl.plot(final[:,1])\n",
    "pl.plot(start[:,1], 'x')\n",
    "f.close()"
   ]
  },
  {
   "cell_type": "markdown",
   "metadata": {},
   "source": [
    "Now let's use an optimizer that uses first-order derivatives. Let's select the Newton-CG method:"
   ]
  },
  {
   "cell_type": "code",
   "execution_count": 17,
   "metadata": {
    "collapsed": false
   },
   "outputs": [
    {
     "name": "stderr",
     "output_type": "stream",
     "text": [
      "2018-07-10 16:50:45,019 - Adding spectral region spec1\n",
      "2018-07-10 16:50:45,021 -   - Reading wavelength axis from observations/10830.wavelength\n",
      "2018-07-10 16:50:45,027 -   - Reading wavelength weights from observations/10830.weights\n",
      "2018-07-10 16:50:45,034 -   - Using observations from observations/10830_stokes.1d\n",
      "2018-07-10 16:50:45,036 -   - No mask for pixels\n",
      "2018-07-10 16:50:45,038 -   - Using LOS ['0.0', '0.0', '90.0']\n",
      "2018-07-10 16:50:45,039 -   - Using boundary condition ['1.0', '0.0', '0.0', '0.0']\n",
      "2018-07-10 16:50:45,041 - Using 1 cycles\n",
      "2018-07-10 16:50:45,043 - Adding atmospheres\n",
      "2018-07-10 16:50:45,045 -   - New available photosphere : ph1\n",
      "2018-07-10 16:50:45,046 -     * Adding line : [300]\n",
      "2018-07-10 16:50:45,048 -     * Magnetic field reference frame : vertical\n",
      "2018-07-10 16:50:45,050 -     * Reading 1D model photospheres/model_photosphere_200.1d as reference\n",
      "2018-07-10 16:50:45,057 -   - New available chromosphere : ch1\n",
      "2018-07-10 16:50:45,059 -     * Adding line : 10830\n",
      "2018-07-10 16:50:45,060 -     * Magnetic field reference frame : vertical\n",
      "2018-07-10 16:50:45,062 -     * Reading 1D model chromospheres/model_chromosphere.1d as reference\n",
      "/scratch/Dropbox/GIT/hazel2/hazel/transforms.py:19: RuntimeWarning: divide by zero encountered in log\n",
      "  return np.log(x / (1.0 - x))\n",
      "2018-07-10 16:50:45,066 -   - New available parametric : te1\n",
      "2018-07-10 16:50:45,068 -     * Reading 1D model telluric/model_telluric.1d as reference\n",
      "2018-07-10 16:50:45,070 - Adding topologies\n",
      "2018-07-10 16:50:45,071 -   - ph1 -> ch1 -> te1\n",
      "2018-07-10 16:50:45,073 - Removing unused atmospheres\n",
      "2018-07-10 16:50:45,074 - Number of pixels to invert : 1\n",
      "2018-07-10 16:50:45,098 - -------------\n",
      "2018-07-10 16:50:45,099 -   Cycle 0  \n",
      "2018-07-10 16:50:45,101 -   Weights for region spec1 : SI=1.0 - SQ=0.0 - SU=0.0 - SV=0.0\n",
      "2018-07-10 16:50:45,102 - -------------\n",
      "2018-07-10 16:50:45,930 - chi2: 60596.95373734312\n",
      "2018-07-10 16:50:46,542 - chi2: 243.02449839565205\n",
      "2018-07-10 16:50:54,937 - chi2: 243.02449839565205\n"
     ]
    }
   ],
   "source": [
    "mod = hazel.Model('conf_single.ini', working_mode='inversion', verbose=2)\n",
    "mod.read_observation()\n",
    "mod.open_output()\n",
    "mod.invert_external(minimize, use_jacobian=True, method='Newton-CG')\n",
    "mod.write_output()\n",
    "mod.close_output()"
   ]
  },
  {
   "cell_type": "code",
   "execution_count": 18,
   "metadata": {
    "collapsed": false
   },
   "outputs": [
    {
     "name": "stderr",
     "output_type": "stream",
     "text": [
      "/scratch/miniconda3/envs/py36/lib/python3.6/site-packages/matplotlib/figure.py:2267: UserWarning: This figure includes Axes that are not compatible with tight_layout, so results might be incorrect.\n",
      "  warnings.warn(\"This figure includes Axes that are not compatible \"\n"
     ]
    },
    {
     "data": {
      "image/png": "[encoded data removed]",
      "text/plain": [
       "<Figure size 432x288 with 1 Axes>"
      ]
     },
     "metadata": {},
     "output_type": "display_data"
    }
   ],
   "source": [
    "final = np.loadtxt('photospheres/model_photosphere.1d', skiprows=4)\n",
    "start = np.loadtxt('photospheres/model_photosphere_200.1d', skiprows=4)\n",
    "f = h5py.File('output.h5')\n",
    "pl.plot(f['ph1']['T'][0,0,:])\n",
    "pl.plot(final[:,1])\n",
    "pl.plot(start[:,1], 'x')\n",
    "f.close()"
   ]
  },
  {
   "cell_type": "markdown",
   "metadata": {},
   "source": [
    "### Using other external optimizers (pro-mode)\n",
    "Using non-SciPy optimizers is slightly more complicated. For this purpose Hazel provides the necessary tools to use them. Here we show an example using the well-known Adam optimizer, broadly used for training deep neural networks. It is a first-order optimizer which uses derivative information. Let us first define a class that implements the Adam optimizer:"
   ]
  },
  {
   "cell_type": "code",
   "execution_count": 19,
   "metadata": {
    "collapsed": true
   },
   "outputs": [],
   "source": [
    "class AdamOptimizer:\n",
    "    def __init__(self, fun, x0, alpha=0.001, beta1=0.9, beta2=0.999, epsilon=1e-8):\n",
    "        self.alpha = alpha\n",
    "        self.beta1 = beta1\n",
    "        self.beta2 = beta2\n",
    "        self.epsilon = epsilon\n",
    "        self.m = 0\n",
    "        self.v = 0\n",
    "        self.t = 0\n",
    "        self.theta = x0\n",
    "        self.fun = fun\n",
    "\n",
    "    def optimize(self, n_iter):\n",
    "        for i in range(n_iter):\n",
    "            f, gradient = self.fun(self.theta)\n",
    "            self.t = self.t + 1\n",
    "            self.m = self.beta1*self.m + (1 - self.beta1)*gradient\n",
    "            self.v = self.beta2*self.v + (1 - self.beta2)*(gradient**2)\n",
    "            m_hat = self.m/(1 - self.beta1**self.t)\n",
    "            v_hat = self.v/(1 - self.beta2**self.t)\n",
    "            self.theta = self.theta - self.alpha*(m_hat/(np.sqrt(v_hat) - self.epsilon))\n",
    "            print(\"Iter: {0} - chi2: {1}\".format(self.t, f))\n",
    "        return self.theta"
   ]
  },
  {
   "cell_type": "markdown",
   "metadata": {},
   "source": [
    "Now we instantiate the model, read the observations and open the output. Next, we need to follow what `invert_external` does. First, compute some factors used internally by Hazel. Loop over all cycles with the following steps: i) find the active parameters, ii) instantiate the optimizer with the `_func_grad` function provided by Hazel, iii) call the optimizer, iv) set the final model and v) propagate the new parameters to the final ones. Finally, we write the output."
   ]
  },
  {
   "cell_type": "code",
   "execution_count": 9,
   "metadata": {
    "collapsed": false
   },
   "outputs": [
    {
     "name": "stderr",
     "output_type": "stream",
     "text": [
      "2018-07-10 16:26:09,301 - Adding spectral region spec1\n",
      "2018-07-10 16:26:09,303 -   - Reading wavelength axis from observations/10830.wavelength\n",
      "2018-07-10 16:26:09,307 -   - Reading wavelength weights from observations/10830.weights\n",
      "2018-07-10 16:26:09,312 -   - Using observations from observations/10830_stokes.1d\n",
      "2018-07-10 16:26:09,314 -   - No mask for pixels\n",
      "2018-07-10 16:26:09,316 -   - Using LOS ['0.0', '0.0', '90.0']\n",
      "2018-07-10 16:26:09,317 -   - Using boundary condition ['1.0', '0.0', '0.0', '0.0']\n",
      "2018-07-10 16:26:09,319 - Using 1 cycles\n",
      "2018-07-10 16:26:09,321 - Adding atmospheres\n",
      "2018-07-10 16:26:09,322 -   - New available photosphere : ph1\n",
      "2018-07-10 16:26:09,324 -     * Adding line : [300]\n",
      "2018-07-10 16:26:09,325 -     * Magnetic field reference frame : vertical\n",
      "2018-07-10 16:26:09,327 -     * Reading 1D model photospheres/model_photosphere_200.1d as reference\n",
      "2018-07-10 16:26:09,332 -   - New available chromosphere : ch1\n",
      "2018-07-10 16:26:09,334 -     * Adding line : 10830\n",
      "2018-07-10 16:26:09,335 -     * Magnetic field reference frame : vertical\n",
      "2018-07-10 16:26:09,336 -     * Reading 1D model chromospheres/model_chromosphere.1d as reference\n",
      "/scratch/Dropbox/GIT/hazel2/hazel/transforms.py:19: RuntimeWarning: divide by zero encountered in log\n",
      "  return np.log(x / (1.0 - x))\n",
      "2018-07-10 16:26:09,339 -   - New available parametric : te1\n",
      "2018-07-10 16:26:09,341 -     * Reading 1D model telluric/model_telluric.1d as reference\n",
      "2018-07-10 16:26:09,343 - Adding topologies\n",
      "2018-07-10 16:26:09,344 -   - ph1 -> ch1 -> te1\n",
      "2018-07-10 16:26:09,345 - Removing unused atmospheres\n",
      "2018-07-10 16:26:09,346 - Number of pixels to invert : 1\n"
     ]
    },
    {
     "name": "stdout",
     "output_type": "stream",
     "text": [
      "Iter: 1 - chi2: 126277.9102233025\n",
      "Iter: 2 - chi2: 124377.27114700752\n",
      "Iter: 3 - chi2: 122494.07327449096\n",
      "Iter: 4 - chi2: 120625.7780454855\n",
      "Iter: 5 - chi2: 118771.8889292491\n",
      "Iter: 6 - chi2: 116931.83293481817\n",
      "Iter: 7 - chi2: 115107.51264876325\n",
      "Iter: 8 - chi2: 113298.09305335704\n",
      "Iter: 9 - chi2: 111503.49877122015\n",
      "Iter: 10 - chi2: 109725.03622975713\n",
      "Iter: 11 - chi2: 107961.51609551997\n",
      "Iter: 12 - chi2: 106214.52546300793\n",
      "Iter: 13 - chi2: 104484.10229105297\n",
      "Iter: 14 - chi2: 102769.28574917912\n",
      "Iter: 15 - chi2: 101068.29069314834\n",
      "Iter: 16 - chi2: 99386.97020157253\n",
      "Iter: 17 - chi2: 97722.10206513092\n",
      "Iter: 18 - chi2: 96074.15099471959\n",
      "Iter: 19 - chi2: 94443.90822105575\n",
      "Iter: 20 - chi2: 92830.51740820496\n",
      "Iter: 21 - chi2: 91233.53354825314\n",
      "Iter: 22 - chi2: 89654.84321052779\n",
      "Iter: 23 - chi2: 88093.57054220757\n",
      "Iter: 24 - chi2: 86549.43522450418\n",
      "Iter: 25 - chi2: 85021.21978253477\n",
      "Iter: 26 - chi2: 83512.39941832481\n",
      "Iter: 27 - chi2: 82020.30531116106\n",
      "Iter: 28 - chi2: 80547.0305263353\n",
      "Iter: 29 - chi2: 79089.72311426843\n",
      "Iter: 30 - chi2: 77651.24969780559\n",
      "Iter: 31 - chi2: 76230.94993826046\n",
      "Iter: 32 - chi2: 74828.65521533215\n",
      "Iter: 33 - chi2: 73444.1209039972\n",
      "Iter: 34 - chi2: 72077.294902626\n",
      "Iter: 35 - chi2: 70728.4677054664\n",
      "Iter: 36 - chi2: 69396.86486431245\n",
      "Iter: 37 - chi2: 68083.01022440215\n",
      "Iter: 38 - chi2: 66786.78374949638\n",
      "Iter: 39 - chi2: 65508.037129422366\n",
      "Iter: 40 - chi2: 64246.712916395176\n",
      "Iter: 41 - chi2: 63002.829642780925\n",
      "Iter: 42 - chi2: 61776.321395997555\n",
      "Iter: 43 - chi2: 60567.03670746656\n",
      "Iter: 44 - chi2: 59374.904487374755\n",
      "Iter: 45 - chi2: 58200.07767345787\n",
      "Iter: 46 - chi2: 57042.42645233292\n",
      "Iter: 47 - chi2: 55901.147203664324\n",
      "Iter: 48 - chi2: 54777.06453246362\n",
      "Iter: 49 - chi2: 53669.3632927666\n",
      "Iter: 50 - chi2: 52578.57110547984\n",
      "Iter: 51 - chi2: 51504.00566302617\n",
      "Iter: 52 - chi2: 50445.85558785322\n",
      "Iter: 53 - chi2: 49403.9971116113\n",
      "Iter: 54 - chi2: 48378.430464887744\n",
      "Iter: 55 - chi2: 47368.91941749801\n",
      "Iter: 56 - chi2: 46375.03557579867\n",
      "Iter: 57 - chi2: 45397.075792673655\n",
      "Iter: 58 - chi2: 44434.81712975169\n",
      "Iter: 59 - chi2: 43487.98133468087\n",
      "Iter: 60 - chi2: 42556.291609177904\n",
      "Iter: 61 - chi2: 41639.93640726183\n",
      "Iter: 62 - chi2: 40738.578462058875\n",
      "Iter: 63 - chi2: 39852.253728290576\n",
      "Iter: 64 - chi2: 38981.03561813819\n",
      "Iter: 65 - chi2: 38124.15904835973\n",
      "Iter: 66 - chi2: 37281.806690696365\n",
      "Iter: 67 - chi2: 36454.11796740663\n",
      "Iter: 68 - chi2: 35640.60115615469\n",
      "Iter: 69 - chi2: 34840.88191197641\n",
      "Iter: 70 - chi2: 34055.23384205742\n",
      "Iter: 71 - chi2: 33283.67513667966\n",
      "Iter: 72 - chi2: 32525.620080359993\n",
      "Iter: 73 - chi2: 31781.15407676799\n",
      "Iter: 74 - chi2: 31050.240522682816\n",
      "Iter: 75 - chi2: 30332.53317537792\n",
      "Iter: 76 - chi2: 29627.665762705645\n",
      "Iter: 77 - chi2: 28935.849724531443\n",
      "Iter: 78 - chi2: 28256.853157304507\n",
      "Iter: 79 - chi2: 27590.63261608948\n",
      "Iter: 80 - chi2: 26936.687032966594\n",
      "Iter: 81 - chi2: 26295.202061823715\n",
      "Iter: 82 - chi2: 25665.789330123283\n",
      "Iter: 83 - chi2: 25048.318967988824\n",
      "Iter: 84 - chi2: 24442.919910510405\n",
      "Iter: 85 - chi2: 23849.206237028953\n",
      "Iter: 86 - chi2: 23267.073279210686\n",
      "Iter: 87 - chi2: 22696.224729574904\n",
      "Iter: 88 - chi2: 22136.851016303626\n",
      "Iter: 89 - chi2: 21588.47656720514\n",
      "Iter: 90 - chi2: 21051.04808071094\n",
      "Iter: 91 - chi2: 20524.342876455907\n",
      "Iter: 92 - chi2: 20008.5104464887\n",
      "Iter: 93 - chi2: 19503.33067641303\n",
      "Iter: 94 - chi2: 19008.3736682513\n",
      "Iter: 95 - chi2: 18523.630726475632\n",
      "Iter: 96 - chi2: 18049.09953605888\n",
      "Iter: 97 - chi2: 17584.43216490257\n",
      "Iter: 98 - chi2: 17129.732147851177\n",
      "Iter: 99 - chi2: 16684.600923804064\n",
      "Iter: 100 - chi2: 16249.04254453391\n",
      "Iter: 101 - chi2: 15822.741852683128\n",
      "Iter: 102 - chi2: 15405.822767324082\n",
      "Iter: 103 - chi2: 14997.725936849476\n",
      "Iter: 104 - chi2: 14598.672162637171\n",
      "Iter: 105 - chi2: 14208.498255777022\n",
      "Iter: 106 - chi2: 13826.952046494978\n",
      "Iter: 107 - chi2: 13453.979345250933\n",
      "Iter: 108 - chi2: 13089.30945714406\n",
      "Iter: 109 - chi2: 12732.96203543556\n",
      "Iter: 110 - chi2: 12384.82981753186\n",
      "Iter: 111 - chi2: 12044.577942739661\n",
      "Iter: 112 - chi2: 11712.142343834126\n",
      "Iter: 113 - chi2: 11387.511602642764\n",
      "Iter: 114 - chi2: 11070.412784223754\n",
      "Iter: 115 - chi2: 10760.737954769707\n",
      "Iter: 116 - chi2: 10458.361957825842\n",
      "Iter: 117 - chi2: 10163.282202538005\n",
      "Iter: 118 - chi2: 9875.170520188918\n",
      "Iter: 119 - chi2: 9594.081061644256\n",
      "Iter: 120 - chi2: 9319.696633447043\n",
      "Iter: 121 - chi2: 9052.011514738519\n",
      "Iter: 122 - chi2: 8790.970129782261\n",
      "Iter: 123 - chi2: 8536.271337298358\n",
      "Iter: 124 - chi2: 8287.93187010732\n",
      "Iter: 125 - chi2: 8045.727290979575\n",
      "Iter: 126 - chi2: 7809.7019810805405\n",
      "Iter: 127 - chi2: 7579.489870757106\n",
      "Iter: 128 - chi2: 7355.233654749427\n",
      "Iter: 129 - chi2: 7136.706327208453\n",
      "Iter: 130 - chi2: 6923.761472633087\n",
      "Iter: 131 - chi2: 6716.3459915357125\n",
      "Iter: 132 - chi2: 6514.256585945463\n",
      "Iter: 133 - chi2: 6317.494858049412\n",
      "Iter: 134 - chi2: 6125.899752607193\n",
      "Iter: 135 - chi2: 5939.408678672718\n",
      "Iter: 136 - chi2: 5757.807913255495\n",
      "Iter: 137 - chi2: 5581.073692107184\n",
      "Iter: 138 - chi2: 5409.122993340246\n",
      "Iter: 139 - chi2: 5241.873808788363\n",
      "Iter: 140 - chi2: 5079.114961804347\n",
      "Iter: 141 - chi2: 4920.797993482367\n",
      "Iter: 142 - chi2: 4766.875905874413\n",
      "Iter: 143 - chi2: 4617.201500345678\n",
      "Iter: 144 - chi2: 4471.7222912827365\n",
      "Iter: 145 - chi2: 4330.25089325859\n",
      "Iter: 146 - chi2: 4192.767525173094\n",
      "Iter: 147 - chi2: 4059.2419951011516\n",
      "Iter: 148 - chi2: 3929.3975139238864\n",
      "Iter: 149 - chi2: 3803.27238298835\n",
      "Iter: 150 - chi2: 3680.8099135131015\n",
      "Iter: 151 - chi2: 3561.870164762956\n",
      "Iter: 152 - chi2: 3446.422936848376\n",
      "Iter: 153 - chi2: 3334.323629819602\n",
      "Iter: 154 - chi2: 3225.4845995473374\n",
      "Iter: 155 - chi2: 3119.8577638237543\n",
      "Iter: 156 - chi2: 3017.430281523696\n",
      "Iter: 157 - chi2: 2918.026410457558\n",
      "Iter: 158 - chi2: 2821.570957419203\n",
      "Iter: 159 - chi2: 2728.0770687118106\n",
      "Iter: 160 - chi2: 2637.3571767617877\n",
      "Iter: 161 - chi2: 2549.461485280551\n",
      "Iter: 162 - chi2: 2464.2342089372346\n",
      "Iter: 163 - chi2: 2381.6110016840867\n",
      "Iter: 164 - chi2: 2301.518525467838\n",
      "Iter: 165 - chi2: 2223.959022610087\n",
      "Iter: 166 - chi2: 2148.7980666045837\n",
      "Iter: 167 - chi2: 2076.000708949061\n",
      "Iter: 168 - chi2: 2005.514802824193\n",
      "Iter: 169 - chi2: 1937.2102384010097\n",
      "Iter: 170 - chi2: 1871.137163989954\n",
      "Iter: 171 - chi2: 1807.1275629121365\n",
      "Iter: 172 - chi2: 1745.2229738290243\n",
      "Iter: 173 - chi2: 1685.3275554879383\n",
      "Iter: 174 - chi2: 1627.312692879165\n",
      "Iter: 175 - chi2: 1571.2797812369931\n",
      "Iter: 176 - chi2: 1517.0232968923979\n",
      "Iter: 177 - chi2: 1464.5869764566387\n",
      "Iter: 178 - chi2: 1413.851538449682\n",
      "Iter: 179 - chi2: 1364.8139466175126\n",
      "Iter: 180 - chi2: 1317.4540018020823\n",
      "Iter: 181 - chi2: 1271.6716895840188\n",
      "Iter: 182 - chi2: 1227.4014234625697\n",
      "Iter: 183 - chi2: 1184.6385767161769\n",
      "Iter: 184 - chi2: 1143.3218241927614\n",
      "Iter: 185 - chi2: 1103.430501109756\n",
      "Iter: 186 - chi2: 1064.9212614189755\n",
      "Iter: 187 - chi2: 1027.718111331393\n",
      "Iter: 188 - chi2: 991.837631055864\n",
      "Iter: 189 - chi2: 957.2032067205171\n",
      "Iter: 190 - chi2: 923.7715117142417\n",
      "Iter: 191 - chi2: 891.5340426196561\n",
      "Iter: 192 - chi2: 860.44324044181\n",
      "Iter: 193 - chi2: 830.4314651088155\n",
      "Iter: 194 - chi2: 801.4838374476889\n",
      "Iter: 195 - chi2: 773.5740787912902\n",
      "Iter: 196 - chi2: 746.704342506984\n",
      "Iter: 197 - chi2: 720.7685227385716\n",
      "Iter: 198 - chi2: 695.7633313946934\n",
      "Iter: 199 - chi2: 671.6877724215882\n",
      "Iter: 200 - chi2: 648.493022848536\n",
      "Iter: 201 - chi2: 626.1418755268792\n",
      "Iter: 202 - chi2: 604.6204721836549\n",
      "Iter: 203 - chi2: 583.9109132507126\n",
      "Iter: 204 - chi2: 563.9542316608347\n",
      "Iter: 205 - chi2: 544.7409853616612\n",
      "Iter: 206 - chi2: 526.2579234136198\n",
      "Iter: 207 - chi2: 508.4744537014042\n",
      "Iter: 208 - chi2: 491.36974973928005\n",
      "Iter: 209 - chi2: 474.9157674187645\n",
      "Iter: 210 - chi2: 459.0844781675143\n",
      "Iter: 211 - chi2: 443.8483052210289\n",
      "Iter: 212 - chi2: 429.22359555087246\n",
      "Iter: 213 - chi2: 415.14433104355317\n",
      "Iter: 214 - chi2: 401.60847986965274\n",
      "Iter: 215 - chi2: 388.6214651104423\n",
      "Iter: 216 - chi2: 376.1214811466038\n",
      "Iter: 217 - chi2: 364.1280297229948\n",
      "Iter: 218 - chi2: 352.60479078108676\n",
      "Iter: 219 - chi2: 341.53088082804163\n",
      "Iter: 220 - chi2: 330.90128584292785\n",
      "Iter: 221 - chi2: 320.6841385230489\n",
      "Iter: 222 - chi2: 310.88832264603343\n",
      "Iter: 223 - chi2: 301.499216148696\n",
      "Iter: 224 - chi2: 292.469717031582\n",
      "Iter: 225 - chi2: 283.8090327753665\n",
      "Iter: 226 - chi2: 275.5060721937928\n",
      "Iter: 227 - chi2: 267.55075705118963\n",
      "Iter: 228 - chi2: 259.9097287235604\n",
      "Iter: 229 - chi2: 252.58309679804685\n",
      "Iter: 230 - chi2: 245.56733045004964\n",
      "Iter: 231 - chi2: 238.83298583918352\n",
      "Iter: 232 - chi2: 232.38569126748746\n",
      "Iter: 233 - chi2: 226.208092995283\n",
      "Iter: 234 - chi2: 220.2872143002372\n",
      "Iter: 235 - chi2: 214.61565427470643\n",
      "Iter: 236 - chi2: 209.184697771748\n",
      "Iter: 237 - chi2: 203.97962102228666\n",
      "Iter: 238 - chi2: 199.0002486793519\n",
      "Iter: 239 - chi2: 194.23457450815084\n",
      "Iter: 240 - chi2: 189.67200880411824\n",
      "Iter: 241 - chi2: 185.30635110758809\n",
      "Iter: 242 - chi2: 181.12786669189515\n",
      "Iter: 243 - chi2: 177.1389209664692\n",
      "Iter: 244 - chi2: 173.31163495697405\n",
      "Iter: 245 - chi2: 169.6640744794119\n",
      "Iter: 246 - chi2: 166.17186886075905\n",
      "Iter: 247 - chi2: 162.8279641910991\n",
      "Iter: 248 - chi2: 159.64225961182055\n",
      "Iter: 249 - chi2: 156.59253606982836\n",
      "Iter: 250 - chi2: 153.67548072858332\n",
      "Iter: 251 - chi2: 150.89403484470856\n",
      "Iter: 252 - chi2: 148.2333515287261\n",
      "Iter: 253 - chi2: 145.69435787895063\n",
      "Iter: 254 - chi2: 143.26936691871603\n",
      "Iter: 255 - chi2: 140.9552522012932\n",
      "Iter: 256 - chi2: 138.74675090097887\n",
      "Iter: 257 - chi2: 136.63613258083856\n",
      "Iter: 258 - chi2: 134.62985740590813\n",
      "Iter: 259 - chi2: 132.70863106683385\n",
      "Iter: 260 - chi2: 130.87394558306886\n",
      "Iter: 261 - chi2: 129.13257231467364\n",
      "Iter: 262 - chi2: 127.4695235364185\n",
      "Iter: 263 - chi2: 125.8798001746302\n",
      "Iter: 264 - chi2: 124.37003964388272\n",
      "Iter: 265 - chi2: 122.92528494162816\n",
      "Iter: 266 - chi2: 121.55275754695734\n",
      "Iter: 267 - chi2: 120.24174271219712\n",
      "Iter: 268 - chi2: 118.99247973852903\n",
      "Iter: 269 - chi2: 117.80610070331286\n",
      "Iter: 270 - chi2: 116.67542768082893\n",
      "Iter: 271 - chi2: 115.59563719033618\n",
      "Iter: 272 - chi2: 114.56810699201063\n",
      "Iter: 273 - chi2: 113.59260424681567\n",
      "Iter: 274 - chi2: 112.66423693091375\n",
      "Iter: 275 - chi2: 111.77976508959365\n",
      "Iter: 276 - chi2: 110.9384800386281\n",
      "Iter: 277 - chi2: 110.13827267981355\n",
      "Iter: 278 - chi2: 109.37860527048267\n",
      "Iter: 279 - chi2: 108.6565432637359\n",
      "Iter: 280 - chi2: 107.96689684832268\n",
      "Iter: 281 - chi2: 107.3127023632596\n",
      "Iter: 282 - chi2: 106.69153251711066\n",
      "Iter: 283 - chi2: 106.098199492923\n",
      "Iter: 284 - chi2: 105.5401480407948\n",
      "Iter: 285 - chi2: 105.00549143768492\n",
      "Iter: 286 - chi2: 104.49850843698921\n",
      "Iter: 287 - chi2: 104.01772613082109\n",
      "Iter: 288 - chi2: 103.56270259138589\n",
      "Iter: 289 - chi2: 103.13009072349624\n",
      "Iter: 290 - chi2: 102.71969757301704\n",
      "Iter: 291 - chi2: 102.32628064430308\n",
      "Iter: 292 - chi2: 101.95676699122778\n",
      "Iter: 293 - chi2: 101.60560491958152\n",
      "Iter: 294 - chi2: 101.2718702991287\n",
      "Iter: 295 - chi2: 100.95762277777368\n",
      "Iter: 296 - chi2: 100.65638074274024\n",
      "Iter: 297 - chi2: 100.37267889433303\n",
      "Iter: 298 - chi2: 100.1016983584502\n",
      "Iter: 299 - chi2: 99.84704163869375\n",
      "Iter: 300 - chi2: 99.60576749309179\n"
     ]
    }
   ],
   "source": [
    "mod = hazel.Model('conf_single.ini', working_mode='inversion', verbose=2)\n",
    "mod.read_observation()\n",
    "mod.open_output()\n",
    "\n",
    "for k, v in mod.spectrum.items():\n",
    "    v.factor_chi2 = 1.0 / (v.noise**2 * v.dof)\n",
    "\n",
    "for mod.cycle in range(mod.n_cycles):\n",
    "    mod.find_active_parameters(mod.cycle)\n",
    "    n_pars = len(mod.nodes)\n",
    "    \n",
    "    optimizer = AdamOptimizer(mod._func_grad, mod.nodes)\n",
    "    \n",
    "    tmp = optimizer.optimize(300)\n",
    "    \n",
    "    mod.set_new_model(tmp)\n",
    "\n",
    "    mod.flatten_parameters_to_reference(mod.cycle)\n",
    "    \n",
    "mod.write_output()\n",
    "mod.close_output()"
   ]
  },
  {
   "cell_type": "code",
   "execution_count": 4,
   "metadata": {
    "collapsed": false
   },
   "outputs": [
    {
     "name": "stderr",
     "output_type": "stream",
     "text": [
      "/scratch/miniconda3/envs/py36/lib/python3.6/site-packages/matplotlib/figure.py:2267: UserWarning: This figure includes Axes that are not compatible with tight_layout, so results might be incorrect.\n",
      "  warnings.warn(\"This figure includes Axes that are not compatible \"\n"
     ]
    },
    {
     "data": {
      "image/png": "[encoded data removed]",
      "text/plain": [
       "<Figure size 432x288 with 1 Axes>"
      ]
     },
     "metadata": {},
     "output_type": "display_data"
    }
   ],
   "source": [
    "final = np.loadtxt('photospheres/model_photosphere.1d', skiprows=4)\n",
    "start = np.loadtxt('photospheres/model_photosphere_200.1d', skiprows=4)\n",
    "f = h5py.File('output.h5')\n",
    "pl.plot(f['ph1']['T'][0,0,:])\n",
    "pl.plot(final[:,1])\n",
    "pl.plot(start[:,1], 'x')\n",
    "f.close()"
   ]
  },
  {
   "cell_type": "code",
   "execution_count": null,
   "metadata": {
    "collapsed": true
   },
   "outputs": [],
   "source": []
  }
 ],
 "metadata": {
  "kernelspec": {
   "display_name": "Python 3",
   "language": "python",
   "name": "python3"
  },
  "language_info": {
   "codemirror_mode": {
    "name": "ipython",
    "version": 3
   },
   "file_extension": ".py",
   "mimetype": "text/x-python",
   "name": "python",
   "nbconvert_exporter": "python",
   "pygments_lexer": "ipython3",
   "version": "3.6.5"
  }
 },
 "nbformat": 4,
 "nbformat_minor": 2
}
